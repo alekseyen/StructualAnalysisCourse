{
  "nbformat": 4,
  "nbformat_minor": 0,
  "metadata": {
    "kernelspec": {
      "display_name": "Python 3",
      "language": "python",
      "name": "python3"
    },
    "language_info": {
      "codemirror_mode": {
        "name": "ipython",
        "version": 3
      },
      "file_extension": ".py",
      "mimetype": "text/x-python",
      "name": "python",
      "nbconvert_exporter": "python",
      "pygments_lexer": "ipython3",
      "version": "3.7.4"
    },
    "colab": {
      "name": "Копия блокнота \"node_embeddings.ipynb\"",
      "provenance": [],
      "collapsed_sections": [
        "umpKV1MMnxZV",
        "k8QpS1uwnxZc",
        "ETkzJdy_nxZe",
        "PoXneLoYnxZf",
        "uVwtCm2VnxZg"
      ]
    },
    "widgets": {
      "application/vnd.jupyter.widget-state+json": {
        "813f5e99f4ba42c48b5b897282a61e60": {
          "model_module": "@jupyter-widgets/controls",
          "model_name": "HBoxModel",
          "model_module_version": "1.5.0",
          "state": {
            "_view_name": "HBoxView",
            "_dom_classes": [],
            "_model_name": "HBoxModel",
            "_view_module": "@jupyter-widgets/controls",
            "_model_module_version": "1.5.0",
            "_view_count": null,
            "_view_module_version": "1.5.0",
            "box_style": "",
            "layout": "IPY_MODEL_8da89d3655ab458d86e2d19f3245b477",
            "_model_module": "@jupyter-widgets/controls",
            "children": [
              "IPY_MODEL_7da84443487c4ae1ad01c6a6dfcd305c",
              "IPY_MODEL_74a331b6ef284d42bbc9f76fac0bf6cd",
              "IPY_MODEL_ebf25537fb15443b810455f898cfd010"
            ]
          }
        },
        "8da89d3655ab458d86e2d19f3245b477": {
          "model_module": "@jupyter-widgets/base",
          "model_name": "LayoutModel",
          "model_module_version": "1.2.0",
          "state": {
            "_view_name": "LayoutView",
            "grid_template_rows": null,
            "right": null,
            "justify_content": null,
            "_view_module": "@jupyter-widgets/base",
            "overflow": null,
            "_model_module_version": "1.2.0",
            "_view_count": null,
            "flex_flow": null,
            "width": null,
            "min_width": null,
            "border": null,
            "align_items": null,
            "bottom": null,
            "_model_module": "@jupyter-widgets/base",
            "top": null,
            "grid_column": null,
            "overflow_y": null,
            "overflow_x": null,
            "grid_auto_flow": null,
            "grid_area": null,
            "grid_template_columns": null,
            "flex": null,
            "_model_name": "LayoutModel",
            "justify_items": null,
            "grid_row": null,
            "max_height": null,
            "align_content": null,
            "visibility": null,
            "align_self": null,
            "height": null,
            "min_height": null,
            "padding": null,
            "grid_auto_rows": null,
            "grid_gap": null,
            "max_width": null,
            "order": null,
            "_view_module_version": "1.2.0",
            "grid_template_areas": null,
            "object_position": null,
            "object_fit": null,
            "grid_auto_columns": null,
            "margin": null,
            "display": null,
            "left": null
          }
        },
        "7da84443487c4ae1ad01c6a6dfcd305c": {
          "model_module": "@jupyter-widgets/controls",
          "model_name": "HTMLModel",
          "model_module_version": "1.5.0",
          "state": {
            "_view_name": "HTMLView",
            "style": "IPY_MODEL_821c67f9feb148f7b34d18313fa70d44",
            "_dom_classes": [],
            "description": "",
            "_model_name": "HTMLModel",
            "placeholder": "​",
            "_view_module": "@jupyter-widgets/controls",
            "_model_module_version": "1.5.0",
            "value": "100%",
            "_view_count": null,
            "_view_module_version": "1.5.0",
            "description_tooltip": null,
            "_model_module": "@jupyter-widgets/controls",
            "layout": "IPY_MODEL_f207d1e3b9e042c9ba154182152df109"
          }
        },
        "74a331b6ef284d42bbc9f76fac0bf6cd": {
          "model_module": "@jupyter-widgets/controls",
          "model_name": "FloatProgressModel",
          "model_module_version": "1.5.0",
          "state": {
            "_view_name": "ProgressView",
            "style": "IPY_MODEL_941fddb8d67f4ec5873cbe81cc51bc7b",
            "_dom_classes": [],
            "description": "",
            "_model_name": "FloatProgressModel",
            "bar_style": "success",
            "max": 2485,
            "_view_module": "@jupyter-widgets/controls",
            "_model_module_version": "1.5.0",
            "value": 2485,
            "_view_count": null,
            "_view_module_version": "1.5.0",
            "orientation": "horizontal",
            "min": 0,
            "description_tooltip": null,
            "_model_module": "@jupyter-widgets/controls",
            "layout": "IPY_MODEL_40c499c436ac40dda5d57ae8df1b224f"
          }
        },
        "ebf25537fb15443b810455f898cfd010": {
          "model_module": "@jupyter-widgets/controls",
          "model_name": "HTMLModel",
          "model_module_version": "1.5.0",
          "state": {
            "_view_name": "HTMLView",
            "style": "IPY_MODEL_258b2f8c85764c1885c09d0ee7cfa2fe",
            "_dom_classes": [],
            "description": "",
            "_model_name": "HTMLModel",
            "placeholder": "​",
            "_view_module": "@jupyter-widgets/controls",
            "_model_module_version": "1.5.0",
            "value": " 2485/2485 [02:13&lt;00:00, 18.32it/s]",
            "_view_count": null,
            "_view_module_version": "1.5.0",
            "description_tooltip": null,
            "_model_module": "@jupyter-widgets/controls",
            "layout": "IPY_MODEL_dcad777d903648439442328b98333f09"
          }
        },
        "821c67f9feb148f7b34d18313fa70d44": {
          "model_module": "@jupyter-widgets/controls",
          "model_name": "DescriptionStyleModel",
          "model_module_version": "1.5.0",
          "state": {
            "_view_name": "StyleView",
            "_model_name": "DescriptionStyleModel",
            "description_width": "",
            "_view_module": "@jupyter-widgets/base",
            "_model_module_version": "1.5.0",
            "_view_count": null,
            "_view_module_version": "1.2.0",
            "_model_module": "@jupyter-widgets/controls"
          }
        },
        "f207d1e3b9e042c9ba154182152df109": {
          "model_module": "@jupyter-widgets/base",
          "model_name": "LayoutModel",
          "model_module_version": "1.2.0",
          "state": {
            "_view_name": "LayoutView",
            "grid_template_rows": null,
            "right": null,
            "justify_content": null,
            "_view_module": "@jupyter-widgets/base",
            "overflow": null,
            "_model_module_version": "1.2.0",
            "_view_count": null,
            "flex_flow": null,
            "width": null,
            "min_width": null,
            "border": null,
            "align_items": null,
            "bottom": null,
            "_model_module": "@jupyter-widgets/base",
            "top": null,
            "grid_column": null,
            "overflow_y": null,
            "overflow_x": null,
            "grid_auto_flow": null,
            "grid_area": null,
            "grid_template_columns": null,
            "flex": null,
            "_model_name": "LayoutModel",
            "justify_items": null,
            "grid_row": null,
            "max_height": null,
            "align_content": null,
            "visibility": null,
            "align_self": null,
            "height": null,
            "min_height": null,
            "padding": null,
            "grid_auto_rows": null,
            "grid_gap": null,
            "max_width": null,
            "order": null,
            "_view_module_version": "1.2.0",
            "grid_template_areas": null,
            "object_position": null,
            "object_fit": null,
            "grid_auto_columns": null,
            "margin": null,
            "display": null,
            "left": null
          }
        },
        "941fddb8d67f4ec5873cbe81cc51bc7b": {
          "model_module": "@jupyter-widgets/controls",
          "model_name": "ProgressStyleModel",
          "model_module_version": "1.5.0",
          "state": {
            "_view_name": "StyleView",
            "_model_name": "ProgressStyleModel",
            "description_width": "",
            "_view_module": "@jupyter-widgets/base",
            "_model_module_version": "1.5.0",
            "_view_count": null,
            "_view_module_version": "1.2.0",
            "bar_color": null,
            "_model_module": "@jupyter-widgets/controls"
          }
        },
        "40c499c436ac40dda5d57ae8df1b224f": {
          "model_module": "@jupyter-widgets/base",
          "model_name": "LayoutModel",
          "model_module_version": "1.2.0",
          "state": {
            "_view_name": "LayoutView",
            "grid_template_rows": null,
            "right": null,
            "justify_content": null,
            "_view_module": "@jupyter-widgets/base",
            "overflow": null,
            "_model_module_version": "1.2.0",
            "_view_count": null,
            "flex_flow": null,
            "width": null,
            "min_width": null,
            "border": null,
            "align_items": null,
            "bottom": null,
            "_model_module": "@jupyter-widgets/base",
            "top": null,
            "grid_column": null,
            "overflow_y": null,
            "overflow_x": null,
            "grid_auto_flow": null,
            "grid_area": null,
            "grid_template_columns": null,
            "flex": null,
            "_model_name": "LayoutModel",
            "justify_items": null,
            "grid_row": null,
            "max_height": null,
            "align_content": null,
            "visibility": null,
            "align_self": null,
            "height": null,
            "min_height": null,
            "padding": null,
            "grid_auto_rows": null,
            "grid_gap": null,
            "max_width": null,
            "order": null,
            "_view_module_version": "1.2.0",
            "grid_template_areas": null,
            "object_position": null,
            "object_fit": null,
            "grid_auto_columns": null,
            "margin": null,
            "display": null,
            "left": null
          }
        },
        "258b2f8c85764c1885c09d0ee7cfa2fe": {
          "model_module": "@jupyter-widgets/controls",
          "model_name": "DescriptionStyleModel",
          "model_module_version": "1.5.0",
          "state": {
            "_view_name": "StyleView",
            "_model_name": "DescriptionStyleModel",
            "description_width": "",
            "_view_module": "@jupyter-widgets/base",
            "_model_module_version": "1.5.0",
            "_view_count": null,
            "_view_module_version": "1.2.0",
            "_model_module": "@jupyter-widgets/controls"
          }
        },
        "dcad777d903648439442328b98333f09": {
          "model_module": "@jupyter-widgets/base",
          "model_name": "LayoutModel",
          "model_module_version": "1.2.0",
          "state": {
            "_view_name": "LayoutView",
            "grid_template_rows": null,
            "right": null,
            "justify_content": null,
            "_view_module": "@jupyter-widgets/base",
            "overflow": null,
            "_model_module_version": "1.2.0",
            "_view_count": null,
            "flex_flow": null,
            "width": null,
            "min_width": null,
            "border": null,
            "align_items": null,
            "bottom": null,
            "_model_module": "@jupyter-widgets/base",
            "top": null,
            "grid_column": null,
            "overflow_y": null,
            "overflow_x": null,
            "grid_auto_flow": null,
            "grid_area": null,
            "grid_template_columns": null,
            "flex": null,
            "_model_name": "LayoutModel",
            "justify_items": null,
            "grid_row": null,
            "max_height": null,
            "align_content": null,
            "visibility": null,
            "align_self": null,
            "height": null,
            "min_height": null,
            "padding": null,
            "grid_auto_rows": null,
            "grid_gap": null,
            "max_width": null,
            "order": null,
            "_view_module_version": "1.2.0",
            "grid_template_areas": null,
            "object_position": null,
            "object_fit": null,
            "grid_auto_columns": null,
            "margin": null,
            "display": null,
            "left": null
          }
        },
        "37368ab6a4934bc986d80f5fe4acfdaa": {
          "model_module": "@jupyter-widgets/controls",
          "model_name": "HBoxModel",
          "model_module_version": "1.5.0",
          "state": {
            "_view_name": "HBoxView",
            "_dom_classes": [],
            "_model_name": "HBoxModel",
            "_view_module": "@jupyter-widgets/controls",
            "_model_module_version": "1.5.0",
            "_view_count": null,
            "_view_module_version": "1.5.0",
            "box_style": "",
            "layout": "IPY_MODEL_7817d2776482484681f51661467ec354",
            "_model_module": "@jupyter-widgets/controls",
            "children": [
              "IPY_MODEL_913b6775def04885ab5c3105e12dc7fb",
              "IPY_MODEL_de8ca3a7890741dba220ac12143349f7",
              "IPY_MODEL_74c25b47380e48ae8c9fd5a48b988782"
            ]
          }
        },
        "7817d2776482484681f51661467ec354": {
          "model_module": "@jupyter-widgets/base",
          "model_name": "LayoutModel",
          "model_module_version": "1.2.0",
          "state": {
            "_view_name": "LayoutView",
            "grid_template_rows": null,
            "right": null,
            "justify_content": null,
            "_view_module": "@jupyter-widgets/base",
            "overflow": null,
            "_model_module_version": "1.2.0",
            "_view_count": null,
            "flex_flow": null,
            "width": null,
            "min_width": null,
            "border": null,
            "align_items": null,
            "bottom": null,
            "_model_module": "@jupyter-widgets/base",
            "top": null,
            "grid_column": null,
            "overflow_y": null,
            "overflow_x": null,
            "grid_auto_flow": null,
            "grid_area": null,
            "grid_template_columns": null,
            "flex": null,
            "_model_name": "LayoutModel",
            "justify_items": null,
            "grid_row": null,
            "max_height": null,
            "align_content": null,
            "visibility": null,
            "align_self": null,
            "height": null,
            "min_height": null,
            "padding": null,
            "grid_auto_rows": null,
            "grid_gap": null,
            "max_width": null,
            "order": null,
            "_view_module_version": "1.2.0",
            "grid_template_areas": null,
            "object_position": null,
            "object_fit": null,
            "grid_auto_columns": null,
            "margin": null,
            "display": null,
            "left": null
          }
        },
        "913b6775def04885ab5c3105e12dc7fb": {
          "model_module": "@jupyter-widgets/controls",
          "model_name": "HTMLModel",
          "model_module_version": "1.5.0",
          "state": {
            "_view_name": "HTMLView",
            "style": "IPY_MODEL_5b685bd7ebdd43bb823cf19dab24e814",
            "_dom_classes": [],
            "description": "",
            "_model_name": "HTMLModel",
            "placeholder": "​",
            "_view_module": "@jupyter-widgets/controls",
            "_model_module_version": "1.5.0",
            "value": "100%",
            "_view_count": null,
            "_view_module_version": "1.5.0",
            "description_tooltip": null,
            "_model_module": "@jupyter-widgets/controls",
            "layout": "IPY_MODEL_d33b1ebacef84b5a9ab26f4d5c5438bc"
          }
        },
        "de8ca3a7890741dba220ac12143349f7": {
          "model_module": "@jupyter-widgets/controls",
          "model_name": "FloatProgressModel",
          "model_module_version": "1.5.0",
          "state": {
            "_view_name": "ProgressView",
            "style": "IPY_MODEL_b81d52ac4a784a388dba9c0672715555",
            "_dom_classes": [],
            "description": "",
            "_model_name": "FloatProgressModel",
            "bar_style": "success",
            "max": 2485,
            "_view_module": "@jupyter-widgets/controls",
            "_model_module_version": "1.5.0",
            "value": 2485,
            "_view_count": null,
            "_view_module_version": "1.5.0",
            "orientation": "horizontal",
            "min": 0,
            "description_tooltip": null,
            "_model_module": "@jupyter-widgets/controls",
            "layout": "IPY_MODEL_748f8badf80b4caeb738661311fa9627"
          }
        },
        "74c25b47380e48ae8c9fd5a48b988782": {
          "model_module": "@jupyter-widgets/controls",
          "model_name": "HTMLModel",
          "model_module_version": "1.5.0",
          "state": {
            "_view_name": "HTMLView",
            "style": "IPY_MODEL_9048a3d73dff43caa10d646efe2f0f5a",
            "_dom_classes": [],
            "description": "",
            "_model_name": "HTMLModel",
            "placeholder": "​",
            "_view_module": "@jupyter-widgets/controls",
            "_model_module_version": "1.5.0",
            "value": " 2485/2485 [02:11&lt;00:00, 20.60it/s]",
            "_view_count": null,
            "_view_module_version": "1.5.0",
            "description_tooltip": null,
            "_model_module": "@jupyter-widgets/controls",
            "layout": "IPY_MODEL_c779cc7444de44ac99d98562fd040a11"
          }
        },
        "5b685bd7ebdd43bb823cf19dab24e814": {
          "model_module": "@jupyter-widgets/controls",
          "model_name": "DescriptionStyleModel",
          "model_module_version": "1.5.0",
          "state": {
            "_view_name": "StyleView",
            "_model_name": "DescriptionStyleModel",
            "description_width": "",
            "_view_module": "@jupyter-widgets/base",
            "_model_module_version": "1.5.0",
            "_view_count": null,
            "_view_module_version": "1.2.0",
            "_model_module": "@jupyter-widgets/controls"
          }
        },
        "d33b1ebacef84b5a9ab26f4d5c5438bc": {
          "model_module": "@jupyter-widgets/base",
          "model_name": "LayoutModel",
          "model_module_version": "1.2.0",
          "state": {
            "_view_name": "LayoutView",
            "grid_template_rows": null,
            "right": null,
            "justify_content": null,
            "_view_module": "@jupyter-widgets/base",
            "overflow": null,
            "_model_module_version": "1.2.0",
            "_view_count": null,
            "flex_flow": null,
            "width": null,
            "min_width": null,
            "border": null,
            "align_items": null,
            "bottom": null,
            "_model_module": "@jupyter-widgets/base",
            "top": null,
            "grid_column": null,
            "overflow_y": null,
            "overflow_x": null,
            "grid_auto_flow": null,
            "grid_area": null,
            "grid_template_columns": null,
            "flex": null,
            "_model_name": "LayoutModel",
            "justify_items": null,
            "grid_row": null,
            "max_height": null,
            "align_content": null,
            "visibility": null,
            "align_self": null,
            "height": null,
            "min_height": null,
            "padding": null,
            "grid_auto_rows": null,
            "grid_gap": null,
            "max_width": null,
            "order": null,
            "_view_module_version": "1.2.0",
            "grid_template_areas": null,
            "object_position": null,
            "object_fit": null,
            "grid_auto_columns": null,
            "margin": null,
            "display": null,
            "left": null
          }
        },
        "b81d52ac4a784a388dba9c0672715555": {
          "model_module": "@jupyter-widgets/controls",
          "model_name": "ProgressStyleModel",
          "model_module_version": "1.5.0",
          "state": {
            "_view_name": "StyleView",
            "_model_name": "ProgressStyleModel",
            "description_width": "",
            "_view_module": "@jupyter-widgets/base",
            "_model_module_version": "1.5.0",
            "_view_count": null,
            "_view_module_version": "1.2.0",
            "bar_color": null,
            "_model_module": "@jupyter-widgets/controls"
          }
        },
        "748f8badf80b4caeb738661311fa9627": {
          "model_module": "@jupyter-widgets/base",
          "model_name": "LayoutModel",
          "model_module_version": "1.2.0",
          "state": {
            "_view_name": "LayoutView",
            "grid_template_rows": null,
            "right": null,
            "justify_content": null,
            "_view_module": "@jupyter-widgets/base",
            "overflow": null,
            "_model_module_version": "1.2.0",
            "_view_count": null,
            "flex_flow": null,
            "width": null,
            "min_width": null,
            "border": null,
            "align_items": null,
            "bottom": null,
            "_model_module": "@jupyter-widgets/base",
            "top": null,
            "grid_column": null,
            "overflow_y": null,
            "overflow_x": null,
            "grid_auto_flow": null,
            "grid_area": null,
            "grid_template_columns": null,
            "flex": null,
            "_model_name": "LayoutModel",
            "justify_items": null,
            "grid_row": null,
            "max_height": null,
            "align_content": null,
            "visibility": null,
            "align_self": null,
            "height": null,
            "min_height": null,
            "padding": null,
            "grid_auto_rows": null,
            "grid_gap": null,
            "max_width": null,
            "order": null,
            "_view_module_version": "1.2.0",
            "grid_template_areas": null,
            "object_position": null,
            "object_fit": null,
            "grid_auto_columns": null,
            "margin": null,
            "display": null,
            "left": null
          }
        },
        "9048a3d73dff43caa10d646efe2f0f5a": {
          "model_module": "@jupyter-widgets/controls",
          "model_name": "DescriptionStyleModel",
          "model_module_version": "1.5.0",
          "state": {
            "_view_name": "StyleView",
            "_model_name": "DescriptionStyleModel",
            "description_width": "",
            "_view_module": "@jupyter-widgets/base",
            "_model_module_version": "1.5.0",
            "_view_count": null,
            "_view_module_version": "1.2.0",
            "_model_module": "@jupyter-widgets/controls"
          }
        },
        "c779cc7444de44ac99d98562fd040a11": {
          "model_module": "@jupyter-widgets/base",
          "model_name": "LayoutModel",
          "model_module_version": "1.2.0",
          "state": {
            "_view_name": "LayoutView",
            "grid_template_rows": null,
            "right": null,
            "justify_content": null,
            "_view_module": "@jupyter-widgets/base",
            "overflow": null,
            "_model_module_version": "1.2.0",
            "_view_count": null,
            "flex_flow": null,
            "width": null,
            "min_width": null,
            "border": null,
            "align_items": null,
            "bottom": null,
            "_model_module": "@jupyter-widgets/base",
            "top": null,
            "grid_column": null,
            "overflow_y": null,
            "overflow_x": null,
            "grid_auto_flow": null,
            "grid_area": null,
            "grid_template_columns": null,
            "flex": null,
            "_model_name": "LayoutModel",
            "justify_items": null,
            "grid_row": null,
            "max_height": null,
            "align_content": null,
            "visibility": null,
            "align_self": null,
            "height": null,
            "min_height": null,
            "padding": null,
            "grid_auto_rows": null,
            "grid_gap": null,
            "max_width": null,
            "order": null,
            "_view_module_version": "1.2.0",
            "grid_template_areas": null,
            "object_position": null,
            "object_fit": null,
            "grid_auto_columns": null,
            "margin": null,
            "display": null,
            "left": null
          }
        },
        "e8ef8d9a4abd426e9071f361a2b2067b": {
          "model_module": "@jupyter-widgets/controls",
          "model_name": "HBoxModel",
          "model_module_version": "1.5.0",
          "state": {
            "_view_name": "HBoxView",
            "_dom_classes": [],
            "_model_name": "HBoxModel",
            "_view_module": "@jupyter-widgets/controls",
            "_model_module_version": "1.5.0",
            "_view_count": null,
            "_view_module_version": "1.5.0",
            "box_style": "",
            "layout": "IPY_MODEL_6a201d55d3044cd098d123ddef3da87c",
            "_model_module": "@jupyter-widgets/controls",
            "children": [
              "IPY_MODEL_f54fb991b723490f90c9261b78f755e6",
              "IPY_MODEL_8e9125cfd54b4678a6bfd02c94d705ea",
              "IPY_MODEL_c98687568eea4088856028db2d219ed1"
            ]
          }
        },
        "6a201d55d3044cd098d123ddef3da87c": {
          "model_module": "@jupyter-widgets/base",
          "model_name": "LayoutModel",
          "model_module_version": "1.2.0",
          "state": {
            "_view_name": "LayoutView",
            "grid_template_rows": null,
            "right": null,
            "justify_content": null,
            "_view_module": "@jupyter-widgets/base",
            "overflow": null,
            "_model_module_version": "1.2.0",
            "_view_count": null,
            "flex_flow": null,
            "width": null,
            "min_width": null,
            "border": null,
            "align_items": null,
            "bottom": null,
            "_model_module": "@jupyter-widgets/base",
            "top": null,
            "grid_column": null,
            "overflow_y": null,
            "overflow_x": null,
            "grid_auto_flow": null,
            "grid_area": null,
            "grid_template_columns": null,
            "flex": null,
            "_model_name": "LayoutModel",
            "justify_items": null,
            "grid_row": null,
            "max_height": null,
            "align_content": null,
            "visibility": null,
            "align_self": null,
            "height": null,
            "min_height": null,
            "padding": null,
            "grid_auto_rows": null,
            "grid_gap": null,
            "max_width": null,
            "order": null,
            "_view_module_version": "1.2.0",
            "grid_template_areas": null,
            "object_position": null,
            "object_fit": null,
            "grid_auto_columns": null,
            "margin": null,
            "display": null,
            "left": null
          }
        },
        "f54fb991b723490f90c9261b78f755e6": {
          "model_module": "@jupyter-widgets/controls",
          "model_name": "HTMLModel",
          "model_module_version": "1.5.0",
          "state": {
            "_view_name": "HTMLView",
            "style": "IPY_MODEL_6b39c655fb4d4b24b59cc8e7d6c3726e",
            "_dom_classes": [],
            "description": "",
            "_model_name": "HTMLModel",
            "placeholder": "​",
            "_view_module": "@jupyter-widgets/controls",
            "_model_module_version": "1.5.0",
            "value": " 31%",
            "_view_count": null,
            "_view_module_version": "1.5.0",
            "description_tooltip": null,
            "_model_module": "@jupyter-widgets/controls",
            "layout": "IPY_MODEL_803c4e105c1941bcb2eeb989eba41c79"
          }
        },
        "8e9125cfd54b4678a6bfd02c94d705ea": {
          "model_module": "@jupyter-widgets/controls",
          "model_name": "FloatProgressModel",
          "model_module_version": "1.5.0",
          "state": {
            "_view_name": "ProgressView",
            "style": "IPY_MODEL_b5c8cc5c9dde4127af6b158adbc0f17e",
            "_dom_classes": [],
            "description": "",
            "_model_name": "FloatProgressModel",
            "bar_style": "",
            "max": 2485,
            "_view_module": "@jupyter-widgets/controls",
            "_model_module_version": "1.5.0",
            "value": 758,
            "_view_count": null,
            "_view_module_version": "1.5.0",
            "orientation": "horizontal",
            "min": 0,
            "description_tooltip": null,
            "_model_module": "@jupyter-widgets/controls",
            "layout": "IPY_MODEL_3dd1cddabec748a0909411f3becb7db0"
          }
        },
        "c98687568eea4088856028db2d219ed1": {
          "model_module": "@jupyter-widgets/controls",
          "model_name": "HTMLModel",
          "model_module_version": "1.5.0",
          "state": {
            "_view_name": "HTMLView",
            "style": "IPY_MODEL_e27f9bb4c8fe4fe69e2a0e6947656b43",
            "_dom_classes": [],
            "description": "",
            "_model_name": "HTMLModel",
            "placeholder": "​",
            "_view_module": "@jupyter-widgets/controls",
            "_model_module_version": "1.5.0",
            "value": " 758/2485 [00:46&lt;01:34, 18.35it/s]",
            "_view_count": null,
            "_view_module_version": "1.5.0",
            "description_tooltip": null,
            "_model_module": "@jupyter-widgets/controls",
            "layout": "IPY_MODEL_7eeb4d29b3264338a0e016f70ec1ebe6"
          }
        },
        "6b39c655fb4d4b24b59cc8e7d6c3726e": {
          "model_module": "@jupyter-widgets/controls",
          "model_name": "DescriptionStyleModel",
          "model_module_version": "1.5.0",
          "state": {
            "_view_name": "StyleView",
            "_model_name": "DescriptionStyleModel",
            "description_width": "",
            "_view_module": "@jupyter-widgets/base",
            "_model_module_version": "1.5.0",
            "_view_count": null,
            "_view_module_version": "1.2.0",
            "_model_module": "@jupyter-widgets/controls"
          }
        },
        "803c4e105c1941bcb2eeb989eba41c79": {
          "model_module": "@jupyter-widgets/base",
          "model_name": "LayoutModel",
          "model_module_version": "1.2.0",
          "state": {
            "_view_name": "LayoutView",
            "grid_template_rows": null,
            "right": null,
            "justify_content": null,
            "_view_module": "@jupyter-widgets/base",
            "overflow": null,
            "_model_module_version": "1.2.0",
            "_view_count": null,
            "flex_flow": null,
            "width": null,
            "min_width": null,
            "border": null,
            "align_items": null,
            "bottom": null,
            "_model_module": "@jupyter-widgets/base",
            "top": null,
            "grid_column": null,
            "overflow_y": null,
            "overflow_x": null,
            "grid_auto_flow": null,
            "grid_area": null,
            "grid_template_columns": null,
            "flex": null,
            "_model_name": "LayoutModel",
            "justify_items": null,
            "grid_row": null,
            "max_height": null,
            "align_content": null,
            "visibility": null,
            "align_self": null,
            "height": null,
            "min_height": null,
            "padding": null,
            "grid_auto_rows": null,
            "grid_gap": null,
            "max_width": null,
            "order": null,
            "_view_module_version": "1.2.0",
            "grid_template_areas": null,
            "object_position": null,
            "object_fit": null,
            "grid_auto_columns": null,
            "margin": null,
            "display": null,
            "left": null
          }
        },
        "b5c8cc5c9dde4127af6b158adbc0f17e": {
          "model_module": "@jupyter-widgets/controls",
          "model_name": "ProgressStyleModel",
          "model_module_version": "1.5.0",
          "state": {
            "_view_name": "StyleView",
            "_model_name": "ProgressStyleModel",
            "description_width": "",
            "_view_module": "@jupyter-widgets/base",
            "_model_module_version": "1.5.0",
            "_view_count": null,
            "_view_module_version": "1.2.0",
            "bar_color": null,
            "_model_module": "@jupyter-widgets/controls"
          }
        },
        "3dd1cddabec748a0909411f3becb7db0": {
          "model_module": "@jupyter-widgets/base",
          "model_name": "LayoutModel",
          "model_module_version": "1.2.0",
          "state": {
            "_view_name": "LayoutView",
            "grid_template_rows": null,
            "right": null,
            "justify_content": null,
            "_view_module": "@jupyter-widgets/base",
            "overflow": null,
            "_model_module_version": "1.2.0",
            "_view_count": null,
            "flex_flow": null,
            "width": null,
            "min_width": null,
            "border": null,
            "align_items": null,
            "bottom": null,
            "_model_module": "@jupyter-widgets/base",
            "top": null,
            "grid_column": null,
            "overflow_y": null,
            "overflow_x": null,
            "grid_auto_flow": null,
            "grid_area": null,
            "grid_template_columns": null,
            "flex": null,
            "_model_name": "LayoutModel",
            "justify_items": null,
            "grid_row": null,
            "max_height": null,
            "align_content": null,
            "visibility": null,
            "align_self": null,
            "height": null,
            "min_height": null,
            "padding": null,
            "grid_auto_rows": null,
            "grid_gap": null,
            "max_width": null,
            "order": null,
            "_view_module_version": "1.2.0",
            "grid_template_areas": null,
            "object_position": null,
            "object_fit": null,
            "grid_auto_columns": null,
            "margin": null,
            "display": null,
            "left": null
          }
        },
        "e27f9bb4c8fe4fe69e2a0e6947656b43": {
          "model_module": "@jupyter-widgets/controls",
          "model_name": "DescriptionStyleModel",
          "model_module_version": "1.5.0",
          "state": {
            "_view_name": "StyleView",
            "_model_name": "DescriptionStyleModel",
            "description_width": "",
            "_view_module": "@jupyter-widgets/base",
            "_model_module_version": "1.5.0",
            "_view_count": null,
            "_view_module_version": "1.2.0",
            "_model_module": "@jupyter-widgets/controls"
          }
        },
        "7eeb4d29b3264338a0e016f70ec1ebe6": {
          "model_module": "@jupyter-widgets/base",
          "model_name": "LayoutModel",
          "model_module_version": "1.2.0",
          "state": {
            "_view_name": "LayoutView",
            "grid_template_rows": null,
            "right": null,
            "justify_content": null,
            "_view_module": "@jupyter-widgets/base",
            "overflow": null,
            "_model_module_version": "1.2.0",
            "_view_count": null,
            "flex_flow": null,
            "width": null,
            "min_width": null,
            "border": null,
            "align_items": null,
            "bottom": null,
            "_model_module": "@jupyter-widgets/base",
            "top": null,
            "grid_column": null,
            "overflow_y": null,
            "overflow_x": null,
            "grid_auto_flow": null,
            "grid_area": null,
            "grid_template_columns": null,
            "flex": null,
            "_model_name": "LayoutModel",
            "justify_items": null,
            "grid_row": null,
            "max_height": null,
            "align_content": null,
            "visibility": null,
            "align_self": null,
            "height": null,
            "min_height": null,
            "padding": null,
            "grid_auto_rows": null,
            "grid_gap": null,
            "max_width": null,
            "order": null,
            "_view_module_version": "1.2.0",
            "grid_template_areas": null,
            "object_position": null,
            "object_fit": null,
            "grid_auto_columns": null,
            "margin": null,
            "display": null,
            "left": null
          }
        }
      }
    }
  },
  "cells": [
    {
      "cell_type": "markdown",
      "metadata": {
        "id": "uwagLqZsnxZP"
      },
      "source": [
        "# Assignment — Node Embeddings"
      ]
    },
    {
      "cell_type": "code",
      "metadata": {
        "id": "OSTRa6udnxZT"
      },
      "source": [
        "import networkx as nx\n",
        "import numpy as np\n",
        "from tqdm.notebook import tqdm\n",
        "import pandas as pd\n",
        "from sklearn.ensemble import GradientBoostingClassifier\n",
        "from sklearn.model_selection import train_test_split\n",
        "from sklearn.metrics import f1_score\n",
        "import requests\n",
        "from time import time\n",
        "import matplotlib.pyplot as plt"
      ],
      "execution_count": 1,
      "outputs": []
    },
    {
      "cell_type": "markdown",
      "metadata": {
        "id": "umpKV1MMnxZV"
      },
      "source": [
        "### CORA Exploratory Data Analysis"
      ]
    },
    {
      "cell_type": "markdown",
      "metadata": {
        "id": "_Rv4GxzZnxZV"
      },
      "source": [
        "In this assignment, we will investigate node embedding algorithms on the Cora dataset. The Cora dataset consists of 2708 scientific publications classified into one of seven classes. The citation network consists of 5429 links. Let us take a closer look at this dataset."
      ]
    },
    {
      "cell_type": "code",
      "metadata": {
        "id": "xQy43RcbnxZW"
      },
      "source": [
        "url = 'https://raw.githubusercontent.com/netspractice/network-science/main/datasets/cora_cites.txt'\n",
        "open('cora_cites.txt', 'wb').write(requests.get(url).content)\n",
        "\n",
        "url = 'https://raw.githubusercontent.com/netspractice/network-science/main/datasets/cora_content.txt'\n",
        "open('cora_content.txt', 'wb').write(requests.get(url).content);"
      ],
      "execution_count": 2,
      "outputs": []
    },
    {
      "cell_type": "markdown",
      "metadata": {
        "id": "HabH-H75nxZW"
      },
      "source": [
        "Number of nodes in the graph"
      ]
    },
    {
      "cell_type": "code",
      "metadata": {
        "id": "oEFEgEbdnxZX",
        "colab": {
          "base_uri": "https://localhost:8080/"
        },
        "outputId": "1451311a-243c-42e1-bba0-8985d089dfa9"
      },
      "source": [
        "cora = nx.read_edgelist('cora_cites.txt')\n",
        "len(cora)"
      ],
      "execution_count": 3,
      "outputs": [
        {
          "output_type": "execute_result",
          "data": {
            "text/plain": [
              "2708"
            ]
          },
          "metadata": {},
          "execution_count": 3
        }
      ]
    },
    {
      "cell_type": "markdown",
      "metadata": {
        "id": "El-Pur6lnxZY"
      },
      "source": [
        "Number of nodes in a gigantic connected component (GCC)"
      ]
    },
    {
      "cell_type": "code",
      "metadata": {
        "id": "XXVA7OgCnxZY",
        "colab": {
          "base_uri": "https://localhost:8080/"
        },
        "outputId": "92783752-d08a-47dd-9387-58f649204099"
      },
      "source": [
        "gcc_nodes = sorted(list(nx.connected_components(cora)), \n",
        "                   key=lambda x: len(x))[-1]\n",
        "gcc_cora = cora.subgraph(gcc_nodes).copy()\n",
        "len(gcc_cora)"
      ],
      "execution_count": 4,
      "outputs": [
        {
          "output_type": "execute_result",
          "data": {
            "text/plain": [
              "2485"
            ]
          },
          "metadata": {},
          "execution_count": 4
        }
      ]
    },
    {
      "cell_type": "markdown",
      "metadata": {
        "id": "LnZqqH9JnxZZ"
      },
      "source": [
        "Nodes content"
      ]
    },
    {
      "cell_type": "code",
      "metadata": {
        "id": "WJXLrLNLnxZZ",
        "colab": {
          "base_uri": "https://localhost:8080/",
          "height": 235
        },
        "outputId": "262cd08f-720a-4571-959d-7dd5f6aef525"
      },
      "source": [
        "cora_content = pd.read_csv('cora_content.txt', sep='\t', \n",
        "                           header=None, index_col=0)\n",
        "cora_content.index = cora_content.index.astype('str')\n",
        "cora_content.index.name = 'node'\n",
        "cora_content.iloc[:5, :20]"
      ],
      "execution_count": 5,
      "outputs": [
        {
          "output_type": "execute_result",
          "data": {
            "text/html": [
              "<div>\n",
              "<style scoped>\n",
              "    .dataframe tbody tr th:only-of-type {\n",
              "        vertical-align: middle;\n",
              "    }\n",
              "\n",
              "    .dataframe tbody tr th {\n",
              "        vertical-align: top;\n",
              "    }\n",
              "\n",
              "    .dataframe thead th {\n",
              "        text-align: right;\n",
              "    }\n",
              "</style>\n",
              "<table border=\"1\" class=\"dataframe\">\n",
              "  <thead>\n",
              "    <tr style=\"text-align: right;\">\n",
              "      <th></th>\n",
              "      <th>1</th>\n",
              "      <th>2</th>\n",
              "      <th>3</th>\n",
              "      <th>4</th>\n",
              "      <th>5</th>\n",
              "      <th>6</th>\n",
              "      <th>7</th>\n",
              "      <th>8</th>\n",
              "      <th>9</th>\n",
              "      <th>10</th>\n",
              "      <th>11</th>\n",
              "      <th>12</th>\n",
              "      <th>13</th>\n",
              "      <th>14</th>\n",
              "      <th>15</th>\n",
              "      <th>16</th>\n",
              "      <th>17</th>\n",
              "      <th>18</th>\n",
              "      <th>19</th>\n",
              "      <th>20</th>\n",
              "    </tr>\n",
              "    <tr>\n",
              "      <th>node</th>\n",
              "      <th></th>\n",
              "      <th></th>\n",
              "      <th></th>\n",
              "      <th></th>\n",
              "      <th></th>\n",
              "      <th></th>\n",
              "      <th></th>\n",
              "      <th></th>\n",
              "      <th></th>\n",
              "      <th></th>\n",
              "      <th></th>\n",
              "      <th></th>\n",
              "      <th></th>\n",
              "      <th></th>\n",
              "      <th></th>\n",
              "      <th></th>\n",
              "      <th></th>\n",
              "      <th></th>\n",
              "      <th></th>\n",
              "      <th></th>\n",
              "    </tr>\n",
              "  </thead>\n",
              "  <tbody>\n",
              "    <tr>\n",
              "      <th>31336</th>\n",
              "      <td>0</td>\n",
              "      <td>0</td>\n",
              "      <td>0</td>\n",
              "      <td>0</td>\n",
              "      <td>0</td>\n",
              "      <td>0</td>\n",
              "      <td>0</td>\n",
              "      <td>0</td>\n",
              "      <td>0</td>\n",
              "      <td>0</td>\n",
              "      <td>0</td>\n",
              "      <td>0</td>\n",
              "      <td>0</td>\n",
              "      <td>0</td>\n",
              "      <td>0</td>\n",
              "      <td>0</td>\n",
              "      <td>0</td>\n",
              "      <td>0</td>\n",
              "      <td>0</td>\n",
              "      <td>0</td>\n",
              "    </tr>\n",
              "    <tr>\n",
              "      <th>1061127</th>\n",
              "      <td>0</td>\n",
              "      <td>0</td>\n",
              "      <td>0</td>\n",
              "      <td>0</td>\n",
              "      <td>0</td>\n",
              "      <td>0</td>\n",
              "      <td>0</td>\n",
              "      <td>0</td>\n",
              "      <td>0</td>\n",
              "      <td>0</td>\n",
              "      <td>0</td>\n",
              "      <td>0</td>\n",
              "      <td>1</td>\n",
              "      <td>0</td>\n",
              "      <td>0</td>\n",
              "      <td>0</td>\n",
              "      <td>0</td>\n",
              "      <td>0</td>\n",
              "      <td>0</td>\n",
              "      <td>0</td>\n",
              "    </tr>\n",
              "    <tr>\n",
              "      <th>1106406</th>\n",
              "      <td>0</td>\n",
              "      <td>0</td>\n",
              "      <td>0</td>\n",
              "      <td>0</td>\n",
              "      <td>0</td>\n",
              "      <td>0</td>\n",
              "      <td>0</td>\n",
              "      <td>0</td>\n",
              "      <td>0</td>\n",
              "      <td>0</td>\n",
              "      <td>0</td>\n",
              "      <td>0</td>\n",
              "      <td>0</td>\n",
              "      <td>0</td>\n",
              "      <td>0</td>\n",
              "      <td>0</td>\n",
              "      <td>0</td>\n",
              "      <td>0</td>\n",
              "      <td>0</td>\n",
              "      <td>0</td>\n",
              "    </tr>\n",
              "    <tr>\n",
              "      <th>13195</th>\n",
              "      <td>0</td>\n",
              "      <td>0</td>\n",
              "      <td>0</td>\n",
              "      <td>0</td>\n",
              "      <td>0</td>\n",
              "      <td>0</td>\n",
              "      <td>0</td>\n",
              "      <td>0</td>\n",
              "      <td>0</td>\n",
              "      <td>0</td>\n",
              "      <td>0</td>\n",
              "      <td>0</td>\n",
              "      <td>0</td>\n",
              "      <td>0</td>\n",
              "      <td>0</td>\n",
              "      <td>0</td>\n",
              "      <td>0</td>\n",
              "      <td>0</td>\n",
              "      <td>0</td>\n",
              "      <td>0</td>\n",
              "    </tr>\n",
              "    <tr>\n",
              "      <th>37879</th>\n",
              "      <td>0</td>\n",
              "      <td>0</td>\n",
              "      <td>0</td>\n",
              "      <td>0</td>\n",
              "      <td>0</td>\n",
              "      <td>0</td>\n",
              "      <td>0</td>\n",
              "      <td>0</td>\n",
              "      <td>0</td>\n",
              "      <td>0</td>\n",
              "      <td>0</td>\n",
              "      <td>0</td>\n",
              "      <td>0</td>\n",
              "      <td>0</td>\n",
              "      <td>0</td>\n",
              "      <td>0</td>\n",
              "      <td>0</td>\n",
              "      <td>0</td>\n",
              "      <td>0</td>\n",
              "      <td>0</td>\n",
              "    </tr>\n",
              "  </tbody>\n",
              "</table>\n",
              "</div>"
            ],
            "text/plain": [
              "         1   2   3   4   5   6   7   8   9   ...  12  13  14  15  16  17  18  19  20\n",
              "node                                         ...                                    \n",
              "31336     0   0   0   0   0   0   0   0   0  ...   0   0   0   0   0   0   0   0   0\n",
              "1061127   0   0   0   0   0   0   0   0   0  ...   0   1   0   0   0   0   0   0   0\n",
              "1106406   0   0   0   0   0   0   0   0   0  ...   0   0   0   0   0   0   0   0   0\n",
              "13195     0   0   0   0   0   0   0   0   0  ...   0   0   0   0   0   0   0   0   0\n",
              "37879     0   0   0   0   0   0   0   0   0  ...   0   0   0   0   0   0   0   0   0\n",
              "\n",
              "[5 rows x 20 columns]"
            ]
          },
          "metadata": {},
          "execution_count": 5
        }
      ]
    },
    {
      "cell_type": "markdown",
      "metadata": {
        "id": "V9vOMS3nnxZZ"
      },
      "source": [
        "Each publication in the dataset is described by a 0/1-valued word vector indicating the absence/presence of the corresponding word from the dictionary. The dictionary consists of 1433 unique words. In this assignment, we will only work with categories and will not touch any information about words.\n",
        "\n",
        "Examples of node categories"
      ]
    },
    {
      "cell_type": "code",
      "metadata": {
        "id": "ASTFYX70nxZa",
        "colab": {
          "base_uri": "https://localhost:8080/",
          "height": 235
        },
        "outputId": "37c87dda-388f-4ce9-ca2e-e678e6e74859"
      },
      "source": [
        "category = cora_content.loc[gcc_nodes, [1434]]\n",
        "category = category.rename(columns={1434: 'category_name'})\n",
        "category.head()"
      ],
      "execution_count": 6,
      "outputs": [
        {
          "output_type": "execute_result",
          "data": {
            "text/html": [
              "<div>\n",
              "<style scoped>\n",
              "    .dataframe tbody tr th:only-of-type {\n",
              "        vertical-align: middle;\n",
              "    }\n",
              "\n",
              "    .dataframe tbody tr th {\n",
              "        vertical-align: top;\n",
              "    }\n",
              "\n",
              "    .dataframe thead th {\n",
              "        text-align: right;\n",
              "    }\n",
              "</style>\n",
              "<table border=\"1\" class=\"dataframe\">\n",
              "  <thead>\n",
              "    <tr style=\"text-align: right;\">\n",
              "      <th></th>\n",
              "      <th>category_name</th>\n",
              "    </tr>\n",
              "    <tr>\n",
              "      <th>node</th>\n",
              "      <th></th>\n",
              "    </tr>\n",
              "  </thead>\n",
              "  <tbody>\n",
              "    <tr>\n",
              "      <th>1131348</th>\n",
              "      <td>Neural_Networks</td>\n",
              "    </tr>\n",
              "    <tr>\n",
              "      <th>423463</th>\n",
              "      <td>Probabilistic_Methods</td>\n",
              "    </tr>\n",
              "    <tr>\n",
              "      <th>46887</th>\n",
              "      <td>Neural_Networks</td>\n",
              "    </tr>\n",
              "    <tr>\n",
              "      <th>1108050</th>\n",
              "      <td>Neural_Networks</td>\n",
              "    </tr>\n",
              "    <tr>\n",
              "      <th>589923</th>\n",
              "      <td>Probabilistic_Methods</td>\n",
              "    </tr>\n",
              "  </tbody>\n",
              "</table>\n",
              "</div>"
            ],
            "text/plain": [
              "                 category_name\n",
              "node                          \n",
              "1131348        Neural_Networks\n",
              "423463   Probabilistic_Methods\n",
              "46887          Neural_Networks\n",
              "1108050        Neural_Networks\n",
              "589923   Probabilistic_Methods"
            ]
          },
          "metadata": {},
          "execution_count": 6
        }
      ]
    },
    {
      "cell_type": "markdown",
      "metadata": {
        "id": "7BDiTl-6nxZa"
      },
      "source": [
        "Category distribution"
      ]
    },
    {
      "cell_type": "code",
      "metadata": {
        "id": "zTgEtjTYnxZa",
        "colab": {
          "base_uri": "https://localhost:8080/",
          "height": 265
        },
        "outputId": "4cd41ace-7438-4098-fe3e-2e732aa801ad"
      },
      "source": [
        "plt.barh(*np.unique(category, return_counts=True));"
      ],
      "execution_count": 7,
      "outputs": [
        {
          "output_type": "display_data",
          "data": {
            "image/png": "[encoded data removed]",
            "text/plain": [
              "<Figure size 432x288 with 1 Axes>"
            ]
          },
          "metadata": {
            "needs_background": "light"
          }
        }
      ]
    },
    {
      "cell_type": "markdown",
      "metadata": {
        "id": "BbkLWMsgnxZa"
      },
      "source": [
        "Rename categories to integer numbers (ids)"
      ]
    },
    {
      "cell_type": "code",
      "metadata": {
        "id": "EGp7kL_gnxZb",
        "colab": {
          "base_uri": "https://localhost:8080/",
          "height": 235
        },
        "outputId": "1240c093-0b55-4230-a452-f91bfac18e58"
      },
      "source": [
        "category['category_id'] = np.unique(category.category_name, \n",
        "                                    return_inverse = True)[1]\n",
        "category.head()"
      ],
      "execution_count": 8,
      "outputs": [
        {
          "output_type": "execute_result",
          "data": {
            "text/html": [
              "<div>\n",
              "<style scoped>\n",
              "    .dataframe tbody tr th:only-of-type {\n",
              "        vertical-align: middle;\n",
              "    }\n",
              "\n",
              "    .dataframe tbody tr th {\n",
              "        vertical-align: top;\n",
              "    }\n",
              "\n",
              "    .dataframe thead th {\n",
              "        text-align: right;\n",
              "    }\n",
              "</style>\n",
              "<table border=\"1\" class=\"dataframe\">\n",
              "  <thead>\n",
              "    <tr style=\"text-align: right;\">\n",
              "      <th></th>\n",
              "      <th>category_name</th>\n",
              "      <th>category_id</th>\n",
              "    </tr>\n",
              "    <tr>\n",
              "      <th>node</th>\n",
              "      <th></th>\n",
              "      <th></th>\n",
              "    </tr>\n",
              "  </thead>\n",
              "  <tbody>\n",
              "    <tr>\n",
              "      <th>1131348</th>\n",
              "      <td>Neural_Networks</td>\n",
              "      <td>2</td>\n",
              "    </tr>\n",
              "    <tr>\n",
              "      <th>423463</th>\n",
              "      <td>Probabilistic_Methods</td>\n",
              "      <td>3</td>\n",
              "    </tr>\n",
              "    <tr>\n",
              "      <th>46887</th>\n",
              "      <td>Neural_Networks</td>\n",
              "      <td>2</td>\n",
              "    </tr>\n",
              "    <tr>\n",
              "      <th>1108050</th>\n",
              "      <td>Neural_Networks</td>\n",
              "      <td>2</td>\n",
              "    </tr>\n",
              "    <tr>\n",
              "      <th>589923</th>\n",
              "      <td>Probabilistic_Methods</td>\n",
              "      <td>3</td>\n",
              "    </tr>\n",
              "  </tbody>\n",
              "</table>\n",
              "</div>"
            ],
            "text/plain": [
              "                 category_name  category_id\n",
              "node                                       \n",
              "1131348        Neural_Networks            2\n",
              "423463   Probabilistic_Methods            3\n",
              "46887          Neural_Networks            2\n",
              "1108050        Neural_Networks            2\n",
              "589923   Probabilistic_Methods            3"
            ]
          },
          "metadata": {},
          "execution_count": 8
        }
      ]
    },
    {
      "cell_type": "markdown",
      "metadata": {
        "id": "v7eg3WUXnxZb"
      },
      "source": [
        "Assortativity coefficient"
      ]
    },
    {
      "cell_type": "code",
      "metadata": {
        "id": "NZoCuw1hnxZb",
        "colab": {
          "base_uri": "https://localhost:8080/"
        },
        "outputId": "cfe425f9-4912-474f-e952-3f689f836c3a"
      },
      "source": [
        "nx.set_node_attributes(gcc_cora, category.category_id.to_dict(), 'category')\n",
        "gcc_cora = nx.convert_node_labels_to_integers(gcc_cora)\n",
        "round(nx.attribute_assortativity_coefficient(gcc_cora, 'category'), 2)"
      ],
      "execution_count": 9,
      "outputs": [
        {
          "output_type": "execute_result",
          "data": {
            "text/plain": [
              "0.76"
            ]
          },
          "metadata": {},
          "execution_count": 9
        }
      ]
    },
    {
      "cell_type": "markdown",
      "metadata": {
        "id": "k8QpS1uwnxZc"
      },
      "source": [
        "### Task 1. Node embedding visualization (3 points)"
      ]
    },
    {
      "cell_type": "markdown",
      "metadata": {
        "id": "Qap-iCtrnxZc"
      },
      "source": [
        "Let us compare embedding algorithms that we saw in previous assignments: \n",
        "* Laplacian Eigenmaps\n",
        "* Truncated SVD of an adjacency matrix\n",
        "* DeepWalk\n",
        "* Walklets\n",
        "\n",
        "There is a usefull python package [*Karate Club*](https://github.com/benedekrozemberczki/karateclub) that contains implementations of these algorithms. Also we will use sklearn implementation of truncated SVD."
      ]
    },
    {
      "cell_type": "code",
      "metadata": {
        "id": "4BCG0KPvnxZc",
        "colab": {
          "base_uri": "https://localhost:8080/"
        },
        "outputId": "02e9b77d-30e6-4b73-eae0-71ea3600ec38"
      },
      "source": [
        "!pip install karateclub==1.0.24 -q"
      ],
      "execution_count": 10,
      "outputs": [
        {
          "output_type": "stream",
          "name": "stdout",
          "text": [
            "\u001b[K     |████████████████████████████████| 59 kB 3.2 MB/s \n",
            "\u001b[K     |████████████████████████████████| 1.8 MB 9.7 MB/s \n",
            "\u001b[K     |████████████████████████████████| 24.2 MB 79 kB/s \n",
            "\u001b[?25h  Building wheel for karateclub (setup.py) ... \u001b[?25l\u001b[?25hdone\n"
          ]
        }
      ]
    },
    {
      "cell_type": "code",
      "metadata": {
        "id": "5hrRVNv9nxZc"
      },
      "source": [
        "from karateclub import DeepWalk, Walklets, LaplacianEigenmaps\n",
        "from sklearn.decomposition import TruncatedSVD, PCA"
      ],
      "execution_count": 11,
      "outputs": []
    },
    {
      "cell_type": "markdown",
      "metadata": {
        "id": "qG066j52nxZd"
      },
      "source": [
        "Embedding algorithms in Karate Club have a general interface\n",
        "\n",
        "```python\n",
        "model.fit(graph)\n",
        "embedding = model.get_embedding()\n",
        "```\n",
        "\n",
        "However, the one inconvenient thing is that Walklets make a concatenation of Word2Vec embeddings to obtain final embeddings. In this way, the output dimensionality will be Word2Vec dimensionality multiplied by window size. A piece of source code:\n",
        "\n",
        "```python\n",
        "def get_embedding(self) -> np.array:\n",
        "    r\"\"\"Getting the node embedding.\n",
        "\n",
        "    Return types:\n",
        "        * **embedding** *(Numpy array)* - The embedding of nodes.\n",
        "    \"\"\"\n",
        "    return np.concatenate(self._embedding, axis=1)\n",
        "```\n",
        "\n",
        "Sometimes, it is usefull to have a deep representation of nodes, but for now we want to compare embeddings with the same dimensionality, so let us define our own class `PCAWalklets` that inherits `Walklets` and performs PCA reduction of embeddings into `self.dimensions` in the `get_embedding` method."
      ]
    },
    {
      "cell_type": "code",
      "metadata": {
        "deletable": false,
        "nbgrader": {
          "cell_type": "code",
          "checksum": "9c723079eb903af6b2b56ad5dada91ef",
          "grade": false,
          "grade_id": "cell-1be4879cc8190e43",
          "locked": false,
          "schema_version": 3,
          "solution": true,
          "task": false
        },
        "id": "mZ4bqnWFnxZd"
      },
      "source": [
        "class PCAWalklets(Walklets):\n",
        "    def get_embedding(self):\n",
        "        return PCA(n_components=self.dimensions).fit_transform(np.concatenate(self._embedding, axis=1))"
      ],
      "execution_count": 14,
      "outputs": []
    },
    {
      "cell_type": "code",
      "metadata": {
        "deletable": false,
        "editable": false,
        "nbgrader": {
          "cell_type": "code",
          "checksum": "f0131af9a9800b77597c382891151921",
          "grade": true,
          "grade_id": "cell-7c5dd45231ab30af",
          "locked": true,
          "points": 1,
          "schema_version": 3,
          "solution": false,
          "task": false
        },
        "id": "MLx2EeXYnxZd"
      },
      "source": [
        "test_model = PCAWalklets()\n",
        "test_model.fit(nx.karate_club_graph())\n",
        "test_emb = test_model.get_embedding()\n",
        "assert test_emb.shape == (34, 32)"
      ],
      "execution_count": 15,
      "outputs": []
    },
    {
      "cell_type": "markdown",
      "metadata": {
        "id": "JiB2uCTbnxZe"
      },
      "source": [
        "Now let us visualize the 2d embeddings.\n",
        "\n",
        "Write a function `xy_embeddings` that takes a graph, compute 16d embeddings, reduce them into 2d via PCA and returns in the order:\n",
        "* Laplacian Eigenmaps\n",
        "* Truncated SVD of an adjacency matrix\n",
        "* DeepWalk\n",
        "* Walklets\n",
        "\n",
        "*Hints:* \n",
        "* *Suggested hyperparameters for DeepWalk and Walklets are `walk_number=10`, `walk_length=30`, `window_size=10`*\n",
        "* *An importatnt thing is that `window_size` in DeepWalk reflects the maximum distance between the current and predicted node within a walk, while `window_size` in Walklets reflects the maximum power of an adjacency matrix, or equivalently, the maximum number of nodes needed to skip in a walk.*"
      ]
    },
    {
      "cell_type": "code",
      "metadata": {
        "deletable": false,
        "nbgrader": {
          "cell_type": "code",
          "checksum": "0a3381cad3ce581fde97f70776fac00b",
          "grade": false,
          "grade_id": "cell-d33f4faf41b0da0e",
          "locked": false,
          "schema_version": 3,
          "solution": true,
          "task": false
        },
        "id": "pXLXrLPlnxZe"
      },
      "source": [
        "def xy_embeddings(graph):\n",
        "    A = nx.to_numpy_array(graph)\n",
        "\n",
        "    pca = PCA(n_components=2)\n",
        "    method = LaplacianEigenmaps(dimensions=16)\n",
        "    method.fit(graph)\n",
        "    embs1 = pca.fit_transform(method.get_embedding())\n",
        "\n",
        "    svd = TruncatedSVD(n_components=16)\n",
        "    embs2 = pca.fit_transform(svd.fit_transform(A))\n",
        "\n",
        "    method = DeepWalk(walk_number=10, walk_length=30, window_size=10, dimensions=16)\n",
        "    method.fit(gcc_cora)\n",
        "    embs3 = pca.fit_transform( method.get_embedding())\n",
        "\n",
        "    method = PCAWalklets(walk_number=10, walk_length=30, window_size=10, dimensions=16)\n",
        "    method.fit(gcc_cora)\n",
        "    embs4 = pca.fit_transform(method.get_embedding())\n",
        "\n",
        "    return embs1, embs2, embs3, embs4"
      ],
      "execution_count": 18,
      "outputs": []
    },
    {
      "cell_type": "code",
      "metadata": {
        "deletable": false,
        "editable": false,
        "nbgrader": {
          "cell_type": "code",
          "checksum": "bbb7dd940b5c8e33eee47523113ec2a2",
          "grade": true,
          "grade_id": "cell-ce2531dac614957f",
          "locked": true,
          "points": 2,
          "schema_version": 3,
          "solution": false,
          "task": false
        },
        "id": "aUd6x4V-nxZe"
      },
      "source": [
        "laplacian_emb, svd_emb, deep_walk_emb, walklets_emb = xy_embeddings(gcc_cora)\n",
        "assert (deep_walk_emb.shape == laplacian_emb.shape \n",
        "        == svd_emb.shape == walklets_emb.shape == (2485, 2))\n",
        "assert -0.5 < laplacian_emb.min() < laplacian_emb.max() < 0.5\n",
        "assert svd_emb[0].sum() > 15\n",
        "assert round(abs(np.corrcoef(deep_walk_emb[:, 0], deep_walk_emb[:, 1])[0][1]), \n",
        "             2) == 0\n",
        "assert round(abs(np.corrcoef(walklets_emb[:, 0], walklets_emb[:, 1])[0][1]), \n",
        "             2) == 0"
      ],
      "execution_count": 19,
      "outputs": []
    },
    {
      "cell_type": "markdown",
      "metadata": {
        "id": "cdEwfeJ5nxZe"
      },
      "source": [
        "Next, here we get a list of category ids to color data points"
      ]
    },
    {
      "cell_type": "code",
      "metadata": {
        "id": "tmh7WLntnxZe",
        "colab": {
          "base_uri": "https://localhost:8080/"
        },
        "outputId": "ea1bbde3-1432-4532-e585-bf3b9b21c64f"
      },
      "source": [
        "category_id = nx.get_node_attributes(gcc_cora, 'category')\n",
        "category_id = list(category_id.values())\n",
        "category_id[:10]"
      ],
      "execution_count": 20,
      "outputs": [
        {
          "output_type": "execute_result",
          "data": {
            "text/plain": [
              "[1, 1, 2, 1, 1, 1, 1, 1, 1, 1]"
            ]
          },
          "metadata": {},
          "execution_count": 20
        }
      ]
    },
    {
      "cell_type": "code",
      "metadata": {
        "id": "QqTBZ21QnxZe",
        "colab": {
          "base_uri": "https://localhost:8080/",
          "height": 1000
        },
        "outputId": "c6a8e660-4d34-47d2-cc50-5d3643b273e4"
      },
      "source": [
        "plt.figure(figsize=(8, 6*4))\n",
        "cases = [[laplacian_emb, 'Laplacian Eigenmaps'], \n",
        "         [svd_emb, 'Truncated SVD'], \n",
        "         [deep_walk_emb, 'DeepWalk'], \n",
        "         [walklets_emb, 'Walklets']]\n",
        "for i, (emb, title) in enumerate(cases):\n",
        "    plt.subplot(4, 1, i+1)\n",
        "    plt.scatter(emb[:, 0], emb[:, 1], c=category_id, cmap=plt.cm.Set1, s=10)\n",
        "    plt.title(title)"
      ],
      "execution_count": 21,
      "outputs": [
        {
          "output_type": "display_data",
          "data": {
            "image/png": "[encoded data removed]",
            "text/plain": [
              "<Figure size 576x1728 with 4 Axes>"
            ]
          },
          "metadata": {
            "needs_background": "light"
          }
        }
      ]
    },
    {
      "cell_type": "markdown",
      "metadata": {
        "id": "ETkzJdy_nxZe"
      },
      "source": [
        "### Task 2. Test set size dependency (2 points)"
      ]
    },
    {
      "cell_type": "markdown",
      "metadata": {
        "id": "ShP1pmOwnxZe"
      },
      "source": [
        "Let us compare the quality of embedding algorithms on classification tasks depending on the size of test set.\n",
        "\n",
        "Write a function `embeddings_score` that takes a graph and computes 16d embeddigns, splits the dataset (X is embedding, y is category id) into train and test sets, fit `GradientBoostingClassifier` and returns a list of lists:\n",
        "* Micro-F1 score of Laplacian Eigenmaps for the test size 0.99, 0.95, 0.9, 0.8, 0.7\n",
        "* The same for Truncated SVD\n",
        "* The same for Deepwalk\n",
        "* The same for Walklets\n",
        "\n",
        "*Hints:* \n",
        "* *Use `train_test_split` splitting method from sklearn*\n",
        "* *Use `f1_score(y_test, y_pred, average='micro')` method from sklearn to calculate Micro-F1 score*\n",
        "* *It is ok if it takes about 2 minutes in Colab*"
      ]
    },
    {
      "cell_type": "code",
      "metadata": {
        "deletable": false,
        "nbgrader": {
          "cell_type": "code",
          "checksum": "caedbca1cb156918d9abf85070f2bf70",
          "grade": false,
          "grade_id": "cell-0c29359bd3423c87",
          "locked": false,
          "schema_version": 3,
          "solution": true,
          "task": false
        },
        "id": "UsdJs_IJnxZf"
      },
      "source": [
        "def embeddings_score(graph):\n",
        "    A = nx.to_numpy_array(graph)\n",
        "    category_id = list(nx.get_node_attributes(graph, 'category').values())\n",
        "\n",
        "    method = LaplacianEigenmaps(dimensions=16)\n",
        "    method.fit(graph)\n",
        "    embs1 = method.get_embedding()\n",
        "\n",
        "    svd = TruncatedSVD(n_components=16)\n",
        "    embs2 = svd.fit_transform(A)\n",
        "\n",
        "    method = DeepWalk(walk_number=10, walk_length=30, window_size=10, dimensions=16)\n",
        "    method.fit(gcc_cora)\n",
        "    embs3 = method.get_embedding()\n",
        "\n",
        "    method = PCAWalklets(walk_number=10, walk_length=30, window_size=10, dimensions=16)\n",
        "    method.fit(gcc_cora)\n",
        "    embs4 = method.get_embedding()\n",
        "\n",
        "    result = []\n",
        "    for emb in [embs1, embs2, embs3, embs4]:\n",
        "        res = []\n",
        "        for ts in [0.99, 0.95, 0.9, 0.8, 0.7]:\n",
        "            X_train, X_test, y_train, y_test = train_test_split(emb, category_id, test_size=ts, random_state=42)\n",
        "            gb = GradientBoostingClassifier()\n",
        "            gb.fit(X_train, y_train)\n",
        "            y_pred = gb.predict(X_test)\n",
        "            f1 = f1_score(y_test, y_pred, average='micro')\n",
        "            res.append(f1)\n",
        "        result.append(res)\n",
        "\n",
        "    return result"
      ],
      "execution_count": 22,
      "outputs": []
    },
    {
      "cell_type": "code",
      "metadata": {
        "deletable": false,
        "editable": false,
        "nbgrader": {
          "cell_type": "code",
          "checksum": "0e66393c9f3201f40f62eb4b72512f7d",
          "grade": true,
          "grade_id": "cell-e2b5bae45ef6c5da",
          "locked": true,
          "points": 2,
          "schema_version": 3,
          "solution": false,
          "task": false
        },
        "id": "pwFV9MNrnxZf"
      },
      "source": [
        "scores = embeddings_score(gcc_cora)\n",
        "scores = np.array(scores)\n",
        "assert scores.shape == (4, 5)\n",
        "assert scores.mean() > 0.5\n",
        "X = np.stack([np.ones(5), np.arange(5)], axis=1)\n",
        "y = scores.mean(axis=0)\n",
        "assert (np.linalg.inv(X.T @ X) @ X.T @ y)[0] > 0.4\n",
        "mean_res = scores.mean(axis=1)\n",
        "assert mean_res[0] > mean_res[3] > mean_res[1] > mean_res[2]"
      ],
      "execution_count": 23,
      "outputs": []
    },
    {
      "cell_type": "code",
      "metadata": {
        "id": "uhw7EWAtnxZf",
        "colab": {
          "base_uri": "https://localhost:8080/",
          "height": 350
        },
        "outputId": "23c90285-520a-450f-9d22-7797a681b20d"
      },
      "source": [
        "plt.figure(figsize=(8, 5))\n",
        "labels = ['Laplacian Eigenmaps', 'Truncated SVD', 'DeepWalk', 'Walklets']\n",
        "for i, score in enumerate(scores):\n",
        "    plt.plot([0.99, 0.95, 0.9, 0.8, 0.7], score, label=labels[i])\n",
        "    plt.scatter([0.99, 0.95, 0.9, 0.8, 0.7], score)\n",
        "plt.legend()\n",
        "plt.title('Embedding algorithms quality')\n",
        "plt.xlabel('Test set size')\n",
        "plt.ylabel('Micro-F1 score')\n",
        "plt.gca().invert_xaxis()\n",
        "plt.show()"
      ],
      "execution_count": 24,
      "outputs": [
        {
          "output_type": "display_data",
          "data": {
            "image/png": "[encoded data removed]",
            "text/plain": [
              "<Figure size 576x360 with 1 Axes>"
            ]
          },
          "metadata": {
            "needs_background": "light"
          }
        }
      ]
    },
    {
      "cell_type": "markdown",
      "metadata": {
        "id": "PoXneLoYnxZf"
      },
      "source": [
        "### Task 3. Embedding dimensionality importance (2 points)"
      ]
    },
    {
      "cell_type": "markdown",
      "metadata": {
        "id": "_1KemF3lnxZf"
      },
      "source": [
        "Another important property of the embedding is an ability to represent nodes in low-dimensional space. It will be great to quickly compress the most important and drop all excess imformation. Let us check how the dimensionality affects to quality and time cost.\n",
        "\n",
        "Write a function `embeddings_dim` that takes a graph, computes embeddings, splits dataset into train and test sets with test size 0.95, computes Micro-F1 scores, time costs and returns a tuple:\n",
        "* list of lists:\n",
        "  * Micro-F1 score for 8d Laplacian Eigenmaps, Truncated SVD, DeepWalk, Walklets\n",
        "  * The same for 16d\n",
        "  * The same for 32d\n",
        "  * The same for 64d\n",
        "  * The same for 128d\n",
        "* list of lists:\n",
        "  * Time cost (seconds) for 8d Laplacian Eigenmaps, Truncated SVD, DeepWalk, Walklets\n",
        "  * The same for 16d\n",
        "  * The same for 32d\n",
        "  * The same for 64d\n",
        "  * The same for 128d\n",
        "\n",
        "*Hints:*\n",
        "* *Use `time()` to get a current time moment*\n",
        "* *It is ok if it takes about 4 minutes in Colab*"
      ]
    },
    {
      "cell_type": "code",
      "metadata": {
        "deletable": false,
        "nbgrader": {
          "cell_type": "code",
          "checksum": "e53b6fcfe115a51f18327c24f7e6fd81",
          "grade": false,
          "grade_id": "cell-e039ba7855f9792c",
          "locked": false,
          "schema_version": 3,
          "solution": true,
          "task": false
        },
        "id": "CagGEIZenxZg"
      },
      "source": [
        "def embeddings_dim(graph):\n",
        "    A = nx.to_numpy_array(graph)\n",
        "    category_id = list(nx.get_node_attributes(graph, 'category').values())\n",
        "\n",
        "    results = [[] for _ in range(5)]\n",
        "    times = [[] for _ in range(5)]\n",
        "\n",
        "    for i, dim in enumerate([8, 16, 32, 64, 128]):\n",
        "        for j in range(4):\n",
        "            time_start = time()\n",
        "\n",
        "            if j == 0:\n",
        "                method = LaplacianEigenmaps(dimensions=dim)\n",
        "                method.fit(graph)\n",
        "                embs = method.get_embedding()\n",
        "            elif j == 1:\n",
        "                svd = TruncatedSVD(n_components=dim)\n",
        "                embs = svd.fit_transform(A)\n",
        "            elif j == 2:\n",
        "                method = DeepWalk(walk_number=10, walk_length=30, window_size=10, dimensions=dim)\n",
        "                method.fit(gcc_cora)\n",
        "                embs = method.get_embedding()\n",
        "            elif j == 3:\n",
        "                method = PCAWalklets(walk_number=10, walk_length=30, window_size=10, dimensions=dim)\n",
        "                method.fit(gcc_cora)\n",
        "                embs = method.get_embedding()\n",
        "\n",
        "            X_train, X_test, y_train, y_test = train_test_split(embs, category_id, test_size=0.95, random_state=42)\n",
        "            gb = GradientBoostingClassifier().fit(X_train, y_train)\n",
        "            y_pred = gb.predict(X_test)\n",
        "            f1 = f1_score(y_test, y_pred, average='micro')\n",
        "\n",
        "            times[i].append(time() - time_start)\n",
        "            results[i].append(f1)\n",
        "\n",
        "    return results, times"
      ],
      "execution_count": 27,
      "outputs": []
    },
    {
      "cell_type": "code",
      "metadata": {
        "deletable": false,
        "editable": false,
        "nbgrader": {
          "cell_type": "code",
          "checksum": "60b646ec695c905339864704f109f838",
          "grade": true,
          "grade_id": "cell-60b4e70331597579",
          "locked": true,
          "points": 2,
          "schema_version": 3,
          "solution": false,
          "task": false
        },
        "id": "eKkCdV-unxZg"
      },
      "source": [
        "scores, time_cost = embeddings_dim(gcc_cora)\n",
        "scores, time_cost = np.array(scores), np.array(time_cost)\n",
        "assert scores.shape == time_cost.shape == (5, 4)\n",
        "smean = scores.mean(axis=0)\n",
        "assert smean.argmin() == 2\n",
        "assert smean[1] < smean[0]\n",
        "assert smean[1] < smean[3]\n",
        "assert smean.mean() > 0.5\n",
        "tcmean = time_cost.mean(axis=0)\n",
        "assert tcmean.argmin() in [0, 1]\n",
        "assert tcmean.argmax() == 3\n",
        "assert time_cost[0, 0] < time_cost[-1, 0]"
      ],
      "execution_count": 28,
      "outputs": []
    },
    {
      "cell_type": "code",
      "metadata": {
        "id": "HH-AYl0XnxZg",
        "colab": {
          "base_uri": "https://localhost:8080/",
          "height": 689
        },
        "outputId": "b7aa0a46-82f8-407a-a68b-2c6d4d3ae67e"
      },
      "source": [
        "plt.figure(figsize=(8, 5))\n",
        "labels = ['Laplacian Eigenmaps', 'Truncated SVD', 'DeepWalk', 'Walklets']\n",
        "for i, score in enumerate(scores.T):\n",
        "    plt.plot([8, 16, 32, 64, 128], score, label=labels[i])\n",
        "    plt.scatter([8, 16, 32, 64, 128], score)\n",
        "plt.legend()\n",
        "plt.xscale('log', basex=2)\n",
        "plt.xlabel('Dimensionality')\n",
        "plt.ylabel('Micro-F1 score')\n",
        "plt.title('Dimensionality vs score')\n",
        "plt.show()\n",
        "\n",
        "plt.figure(figsize=(8, 5))\n",
        "for i, cost in enumerate(time_cost.T):\n",
        "    plt.plot([8, 16, 32, 64, 128], cost, label=labels[i])\n",
        "    plt.scatter([8, 16, 32, 64, 128], cost)\n",
        "plt.legend()\n",
        "plt.xscale('log', basex=2)\n",
        "plt.yscale('log', basey=2)\n",
        "plt.xlabel('Dimensionality')\n",
        "plt.ylabel('Time cost (seconds)')\n",
        "plt.title('Dimensionality vs time cost')\n",
        "plt.show()"
      ],
      "execution_count": 29,
      "outputs": [
        {
          "output_type": "display_data",
          "data": {
            "image/png": "[encoded data removed]",
            "text/plain": [
              "<Figure size 576x360 with 1 Axes>"
            ]
          },
          "metadata": {
            "needs_background": "light"
          }
        },
        {
          "output_type": "display_data",
          "data": {
            "image/png": "[encoded data removed]",
            "text/plain": [
              "<Figure size 576x360 with 1 Axes>"
            ]
          },
          "metadata": {
            "needs_background": "light"
          }
        }
      ]
    },
    {
      "cell_type": "markdown",
      "metadata": {
        "id": "uVwtCm2VnxZg"
      },
      "source": [
        "### Task 4. Node2Vec (3 points)"
      ]
    },
    {
      "cell_type": "code",
      "metadata": {
        "id": "z3r9z3qBnxZg",
        "colab": {
          "base_uri": "https://localhost:8080/"
        },
        "outputId": "ab20f6fb-ee92-4e8d-f999-790362a730b6"
      },
      "source": [
        "!pip install gensim==3.6.0 -q"
      ],
      "execution_count": 30,
      "outputs": [
        {
          "output_type": "stream",
          "name": "stdout",
          "text": [
            "\u001b[K     |████████████████████████████████| 23.1 MB 1.5 MB/s \n",
            "\u001b[?25h  Building wheel for gensim (setup.py) ... \u001b[?25l\u001b[?25hdone\n",
            "\u001b[31mERROR: pip's dependency resolver does not currently take into account all the packages that are installed. This behaviour is the source of the following dependency conflicts.\n",
            "karateclub 1.0.24 requires gensim==3.8.3, but you have gensim 3.6.0 which is incompatible.\u001b[0m\n"
          ]
        }
      ]
    },
    {
      "cell_type": "code",
      "metadata": {
        "id": "j3xNueRDnxZg"
      },
      "source": [
        "from gensim.models.word2vec import Word2Vec"
      ],
      "execution_count": 31,
      "outputs": []
    },
    {
      "cell_type": "markdown",
      "metadata": {
        "id": "bEmcB9vMnxZh"
      },
      "source": [
        "In this task, we will consider Node2Vec embedding algorithm. In Node2Vec, we learn a mapping of nodes to a low-dimensional space of features that maximizes the likelihood of preserving network neighborhoods of nodes. It is similar to the DeepWalk, but used *biased random walk procedure* which efficiently explores diverse neighborhoods. There are two parameters:\n",
        "\n",
        "* Return parameter $p$ controls the likelihood of immediately revisiting a node in the walk. Setting it to a high value ensures that we are less likely to sample an already-visited node in the following two steps.\n",
        "\n",
        "* In-out parameter $q$ allows the search to differentiate between “inward” and “outward” nodes. If $q > 1$, the random walk is biased towards nodes close to previous node. In contrast, if $q < 1$, the walk is more inclined to visit nodes which are further away from the previous node."
      ]
    },
    {
      "cell_type": "markdown",
      "metadata": {
        "id": "RQgDEykKnxZh"
      },
      "source": [
        "<img src='https://raw.githubusercontent.com/netspractice/network-science/ftad2021/assignment_node_embedding/node_embedding.png' width=300>"
      ]
    },
    {
      "cell_type": "markdown",
      "metadata": {
        "id": "B6npe2U4nxZh"
      },
      "source": [
        "For example, we just moved from the node $t$ to $v$ and now we want to decide on the next step so it evaluates the transition probabilities on edges ($v$, $x$) leading from $v$. Then the *unnormalized* probability is\n",
        "\n",
        "$$\\alpha = \\begin{cases}\n",
        "\\frac{1}{p} &  \\text{ if } d_{tx} = 0\\\\\n",
        "1 & \\text{ if } d_{tx} = 1\\\\\n",
        "\\frac{1}{q} & \\text{ if } d_{tx} = 2\\\\\n",
        "\\end{cases}$$\n",
        "\n",
        "where $d_{tx}$ is the shortest path distance between nodes $t$ and $x$. To compute the true probability, we need to normalize values so that the sum is 1.\n",
        "\n",
        "Write a function `biased_random_walk` that takes a graph, node for which we start random walk, length of walk, parameters `p` and `q` and returns a list with a random walk."
      ]
    },
    {
      "cell_type": "code",
      "metadata": {
        "deletable": false,
        "nbgrader": {
          "cell_type": "code",
          "checksum": "c3969a9f986a4f1865096bf05e04db42",
          "grade": false,
          "grade_id": "cell-3e6acfc34a7f8627",
          "locked": false,
          "schema_version": 3,
          "solution": true,
          "task": false
        },
        "id": "2dha_qgJnxZh"
      },
      "source": [
        "def biased_random_walk(G, node, path_length, p, q):\n",
        "    # _node = node\n",
        "    walk, neighbors, probs = [node], list(G.neighbors(node)), []\n",
        "    node_ = np.random.choice(neighbors)\n",
        "\n",
        "    for _ in range(path_length - 1):\n",
        "        neighbors = list(G.neighbors(node_))\n",
        "        probs = []\n",
        "        for v in neighbors:\n",
        "            path_len = nx.shortest_path_length(gcc_cora, walk[-1], v)\n",
        "            if path_len == 0:\n",
        "                probs.append(1. / p)\n",
        "            elif path_len == 1:\n",
        "                probs.append(1)\n",
        "            else:\n",
        "                probs.append(1. / q)\n",
        "        walk.append(node_)\n",
        "        node_ = np.random.choice(neighbors, p=[_ / sum(probs) for _ in probs])\n",
        "    return walk\n"
      ],
      "execution_count": 36,
      "outputs": []
    },
    {
      "cell_type": "code",
      "metadata": {
        "deletable": false,
        "editable": false,
        "nbgrader": {
          "cell_type": "code",
          "checksum": "640915cecc9408af5147f5ad1f8d96c3",
          "grade": true,
          "grade_id": "cell-146532f00986acf1",
          "locked": true,
          "points": 1,
          "schema_version": 3,
          "solution": false,
          "task": false
        },
        "id": "xtN9sWNEnxZh"
      },
      "source": [
        "rw = biased_random_walk(gcc_cora, 0, 10, 0.1, 0.5)\n",
        "assert len(rw) == 10\n",
        "rw = biased_random_walk(gcc_cora, node=0, path_length=4, p=0.001, q=1000)\n",
        "assert rw[0] == rw[2]\n",
        "assert rw[1] == rw[3]\n",
        "rw = biased_random_walk(gcc_cora, node=0, path_length=4, p=1000, q=0.001)\n",
        "assert len(set(rw)) >= 3"
      ],
      "execution_count": 37,
      "outputs": []
    },
    {
      "cell_type": "markdown",
      "metadata": {
        "id": "71qINFaCnxZi"
      },
      "source": [
        "Here are auxiliary methods that generates biased random walks and encode this walks using Word2Vec model."
      ]
    },
    {
      "cell_type": "code",
      "metadata": {
        "deletable": false,
        "editable": false,
        "nbgrader": {
          "cell_type": "code",
          "checksum": "68cbe6fbff859bfcd37301eec07fd78c",
          "grade": false,
          "grade_id": "cell-8a2e43b862b373da",
          "locked": true,
          "schema_version": 3,
          "solution": false,
          "task": false
        },
        "id": "J8Ql-O5pnxZi"
      },
      "source": [
        "def biased_random_walks(G, walk_number, walk_length, p, q):\n",
        "    walks = []\n",
        "    for node in tqdm(G.nodes):\n",
        "        for _ in range(walk_number):\n",
        "            walk_from_node = biased_random_walk(G, node, walk_length, p, q)\n",
        "            walks.append(walk_from_node)\n",
        "    return np.array(walks)\n",
        "\n",
        "def node2vec_encode(G, walks, dimensions, window_size):\n",
        "    walks_str = walks.astype('str').tolist()\n",
        "    model = Word2Vec(walks_str, size=dimensions, hs=1, sg=1, \n",
        "                     alpha=0.05, iter=1, window=window_size)\n",
        "    embedding = np.array([model.wv[str(n)] for n in range(len(G))])\n",
        "    return embedding"
      ],
      "execution_count": 38,
      "outputs": []
    },
    {
      "cell_type": "code",
      "metadata": {
        "deletable": false,
        "editable": false,
        "nbgrader": {
          "cell_type": "code",
          "checksum": "ba339e861bf1525a546e363be2130309",
          "grade": true,
          "grade_id": "cell-03d420988ac76488",
          "locked": true,
          "points": 1,
          "schema_version": 3,
          "solution": false,
          "task": false
        },
        "id": "OPb9BsVNnxZi",
        "colab": {
          "base_uri": "https://localhost:8080/",
          "height": 49,
          "referenced_widgets": [
            "813f5e99f4ba42c48b5b897282a61e60",
            "8da89d3655ab458d86e2d19f3245b477",
            "7da84443487c4ae1ad01c6a6dfcd305c",
            "74a331b6ef284d42bbc9f76fac0bf6cd",
            "ebf25537fb15443b810455f898cfd010",
            "821c67f9feb148f7b34d18313fa70d44",
            "f207d1e3b9e042c9ba154182152df109",
            "941fddb8d67f4ec5873cbe81cc51bc7b",
            "40c499c436ac40dda5d57ae8df1b224f",
            "258b2f8c85764c1885c09d0ee7cfa2fe",
            "dcad777d903648439442328b98333f09"
          ]
        },
        "outputId": "b8a7ec4c-98be-4a9e-9968-890944dd8ac2"
      },
      "source": [
        "rws = biased_random_walks(gcc_cora, walk_number=10, walk_length=30, p=0.25, q=0.5)\n",
        "emb = node2vec_encode(gcc_cora, walks=rws, dimensions=16, window_size=10)\n",
        "assert emb.shape == (2485, 16)"
      ],
      "execution_count": 39,
      "outputs": [
        {
          "output_type": "display_data",
          "data": {
            "application/vnd.jupyter.widget-view+json": {
              "model_id": "813f5e99f4ba42c48b5b897282a61e60",
              "version_minor": 0,
              "version_major": 2
            },
            "text/plain": [
              "  0%|          | 0/2485 [00:00<?, ?it/s]"
            ]
          },
          "metadata": {}
        }
      ]
    },
    {
      "cell_type": "markdown",
      "metadata": {
        "id": "sF_LjXzgnxZi"
      },
      "source": [
        "Write a function `grid_search_pq`. Using 0.95 test set size, run the grid search for `GradientBoostingClassifier` and find the best values for $p, q \\in \\{0.25, 0.50, 1, 2, 4\\}$ with respect to Micro-F1 score. Return the best $p, q$.\n",
        "\n",
        "*Hints:*\n",
        "* *Suggested hyperparameters are `walk_number=10`, `walk_length=30`, `window_size=10`, `dimensions=16`*\n",
        "* *To pass time limits, calculate the best `p` and `q` and then rewrite the function as*\n",
        "\n",
        "```python\n",
        "def grid_search_pq(graph):\n",
        "    return best_p, best_q\n",
        "```"
      ]
    },
    {
      "cell_type": "code",
      "metadata": {
        "deletable": false,
        "nbgrader": {
          "cell_type": "code",
          "checksum": "0422943692188f6966386fc93307449f",
          "grade": false,
          "grade_id": "cell-e01b1458086e8b5a",
          "locked": false,
          "schema_version": 3,
          "solution": true,
          "task": false
        },
        "id": "6BQ1juQfnxZi"
      },
      "source": [
        "def grid_search_pq(graph):\n",
        "    labels = list(nx.get_node_attributes(gcc_cora, 'category').values())\n",
        "    best_p, best_q = 0, 0\n",
        "    best_score = 0\n",
        "    \n",
        "    for p in [0.25, 0.50, 1, 2, 4]:\n",
        "        for q in [0.25, 0.50, 1, 2, 4]:\n",
        "            rws = biased_random_walks(graph, walk_number=10, walk_length=30, p=p, q=q)\n",
        "            emb = node2vec_encode(graph, walks=rws, dimensions=16, window_size=10)\n",
        "\n",
        "            X_train, X_test, y_train, y_test = train_test_split(emb, labels, test_size=0.95)\n",
        "            gb = GradientBoostingClassifier()\n",
        "            gb.fit(X_train, y_train)\n",
        "            y_pred = gb.predict(X_test)\n",
        "            \n",
        "            score = f1_score(y_test, y_pred, average='micro')\n",
        "            if score > best_score:\n",
        "                best_score = score\n",
        "                best_p, best_q = p, q\n",
        "    \n",
        "    return best_p, best_q\n"
      ],
      "execution_count": 40,
      "outputs": []
    },
    {
      "cell_type": "code",
      "metadata": {
        "deletable": false,
        "editable": false,
        "nbgrader": {
          "cell_type": "code",
          "checksum": "c27c2b624c20d049a957955bc6b3ff72",
          "grade": true,
          "grade_id": "cell-d56cadb33744b38c",
          "locked": true,
          "points": 1,
          "schema_version": 3,
          "solution": false,
          "task": false
        },
        "id": "Btp6gAJNnxZi",
        "colab": {
          "base_uri": "https://localhost:8080/",
          "height": 81,
          "referenced_widgets": [
            "37368ab6a4934bc986d80f5fe4acfdaa",
            "7817d2776482484681f51661467ec354",
            "913b6775def04885ab5c3105e12dc7fb",
            "de8ca3a7890741dba220ac12143349f7",
            "74c25b47380e48ae8c9fd5a48b988782",
            "5b685bd7ebdd43bb823cf19dab24e814",
            "d33b1ebacef84b5a9ab26f4d5c5438bc",
            "b81d52ac4a784a388dba9c0672715555",
            "748f8badf80b4caeb738661311fa9627",
            "9048a3d73dff43caa10d646efe2f0f5a",
            "c779cc7444de44ac99d98562fd040a11",
            "e8ef8d9a4abd426e9071f361a2b2067b",
            "6a201d55d3044cd098d123ddef3da87c",
            "f54fb991b723490f90c9261b78f755e6",
            "8e9125cfd54b4678a6bfd02c94d705ea",
            "c98687568eea4088856028db2d219ed1",
            "6b39c655fb4d4b24b59cc8e7d6c3726e",
            "803c4e105c1941bcb2eeb989eba41c79",
            "b5c8cc5c9dde4127af6b158adbc0f17e",
            "3dd1cddabec748a0909411f3becb7db0",
            "e27f9bb4c8fe4fe69e2a0e6947656b43",
            "7eeb4d29b3264338a0e016f70ec1ebe6"
          ]
        },
        "outputId": "27c040a0-d2bb-4428-824d-8b455eeb4dd5"
      },
      "source": [
        "best_p, best_q = grid_search_pq(gcc_cora)\n",
        "rws = biased_random_walks(gcc_cora, walk_number=10, walk_length=30, p=best_p, q=best_q)\n",
        "emb = node2vec_encode(gcc_cora, walks=rws, dimensions=16, window_size=10)\n",
        "category_id = nx.get_node_attributes(gcc_cora, 'category')\n",
        "category_id = list(category_id.values())\n",
        "X_train, X_test, y_train, y_test = train_test_split(emb, category_id, test_size=0.95, random_state=0)\n",
        "clf = GradientBoostingClassifier()\n",
        "clf.fit(X_train, y_train)\n",
        "y_pred = clf.predict(X_test)\n",
        "assert f1_score(y_test, y_pred, average='micro') > 0.65"
      ],
      "execution_count": null,
      "outputs": [
        {
          "output_type": "display_data",
          "data": {
            "application/vnd.jupyter.widget-view+json": {
              "model_id": "37368ab6a4934bc986d80f5fe4acfdaa",
              "version_minor": 0,
              "version_major": 2
            },
            "text/plain": [
              "  0%|          | 0/2485 [00:00<?, ?it/s]"
            ]
          },
          "metadata": {}
        },
        {
          "output_type": "display_data",
          "data": {
            "application/vnd.jupyter.widget-view+json": {
              "model_id": "e8ef8d9a4abd426e9071f361a2b2067b",
              "version_minor": 0,
              "version_major": 2
            },
            "text/plain": [
              "  0%|          | 0/2485 [00:00<?, ?it/s]"
            ]
          },
          "metadata": {}
        }
      ]
    },
    {
      "cell_type": "code",
      "metadata": {
        "id": "URtdYVmTnxZi"
      },
      "source": [
        "plt.figure(figsize=(8, 6))\n",
        "model = PCA(n_components=2)\n",
        "model.fit(emb)\n",
        "emb = model.transform(emb)\n",
        "plt.scatter(emb[:, 0], emb[:, 1], c=category_id, cmap=plt.cm.Set1, s=10)\n",
        "plt.title('Node2Vec')\n",
        "plt.show()"
      ],
      "execution_count": null,
      "outputs": []
    },
    {
      "cell_type": "code",
      "metadata": {
        "id": "K4wRMQwUnxZj"
      },
      "source": [
        ""
      ],
      "execution_count": null,
      "outputs": []
    }
  ]
}