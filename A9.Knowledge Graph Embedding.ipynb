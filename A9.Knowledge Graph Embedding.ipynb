{
  "nbformat": 4,
  "nbformat_minor": 0,
  "metadata": {
    "kernelspec": {
      "display_name": "Python 3",
      "language": "python",
      "name": "python3"
    },
    "language_info": {
      "codemirror_mode": {
        "name": "ipython",
        "version": 3
      },
      "file_extension": ".py",
      "mimetype": "text/x-python",
      "name": "python",
      "nbconvert_exporter": "python",
      "pygments_lexer": "ipython3",
      "version": "3.8.8"
    },
    "colab": {
      "name": "Копия блокнота \"knowledge_graphs.ipynb\"",
      "provenance": []
    },
    "widgets": {
      "application/vnd.jupyter.widget-state+json": {
        "e7f0744f1dba4187ac2d73b9ba08cfd0": {
          "model_module": "@jupyter-widgets/controls",
          "model_name": "HBoxModel",
          "model_module_version": "1.5.0",
          "state": {
            "_view_name": "HBoxView",
            "_dom_classes": [],
            "_model_name": "HBoxModel",
            "_view_module": "@jupyter-widgets/controls",
            "_model_module_version": "1.5.0",
            "_view_count": null,
            "_view_module_version": "1.5.0",
            "box_style": "",
            "layout": "IPY_MODEL_1cab15fa4f064be38f40e0526cb141d9",
            "_model_module": "@jupyter-widgets/controls",
            "children": [
              "IPY_MODEL_684d6c98c43144c3a2111ab8dd1b42ec",
              "IPY_MODEL_31094efd49b94e048bf070a48a1c64a7",
              "IPY_MODEL_3440c3207171452184703bc849c01fc9"
            ]
          }
        },
        "1cab15fa4f064be38f40e0526cb141d9": {
          "model_module": "@jupyter-widgets/base",
          "model_name": "LayoutModel",
          "model_module_version": "1.2.0",
          "state": {
            "_view_name": "LayoutView",
            "grid_template_rows": null,
            "right": null,
            "justify_content": null,
            "_view_module": "@jupyter-widgets/base",
            "overflow": null,
            "_model_module_version": "1.2.0",
            "_view_count": null,
            "flex_flow": null,
            "width": null,
            "min_width": null,
            "border": null,
            "align_items": null,
            "bottom": null,
            "_model_module": "@jupyter-widgets/base",
            "top": null,
            "grid_column": null,
            "overflow_y": null,
            "overflow_x": null,
            "grid_auto_flow": null,
            "grid_area": null,
            "grid_template_columns": null,
            "flex": null,
            "_model_name": "LayoutModel",
            "justify_items": null,
            "grid_row": null,
            "max_height": null,
            "align_content": null,
            "visibility": null,
            "align_self": null,
            "height": null,
            "min_height": null,
            "padding": null,
            "grid_auto_rows": null,
            "grid_gap": null,
            "max_width": null,
            "order": null,
            "_view_module_version": "1.2.0",
            "grid_template_areas": null,
            "object_position": null,
            "object_fit": null,
            "grid_auto_columns": null,
            "margin": null,
            "display": null,
            "left": null
          }
        },
        "684d6c98c43144c3a2111ab8dd1b42ec": {
          "model_module": "@jupyter-widgets/controls",
          "model_name": "HTMLModel",
          "model_module_version": "1.5.0",
          "state": {
            "_view_name": "HTMLView",
            "style": "IPY_MODEL_6f388a82fb974bb285c204e17b7b4f73",
            "_dom_classes": [],
            "description": "",
            "_model_name": "HTMLModel",
            "placeholder": "​",
            "_view_module": "@jupyter-widgets/controls",
            "_model_module_version": "1.5.0",
            "value": "Epoch 200 | mean loss: 0.03357: 100%",
            "_view_count": null,
            "_view_module_version": "1.5.0",
            "description_tooltip": null,
            "_model_module": "@jupyter-widgets/controls",
            "layout": "IPY_MODEL_8b8460b01fbb4e21af77ed0608e5b83a"
          }
        },
        "31094efd49b94e048bf070a48a1c64a7": {
          "model_module": "@jupyter-widgets/controls",
          "model_name": "FloatProgressModel",
          "model_module_version": "1.5.0",
          "state": {
            "_view_name": "ProgressView",
            "style": "IPY_MODEL_e325327f32174cd480279b3690a978d1",
            "_dom_classes": [],
            "description": "",
            "_model_name": "FloatProgressModel",
            "bar_style": "success",
            "max": 200,
            "_view_module": "@jupyter-widgets/controls",
            "_model_module_version": "1.5.0",
            "value": 200,
            "_view_count": null,
            "_view_module_version": "1.5.0",
            "orientation": "horizontal",
            "min": 0,
            "description_tooltip": null,
            "_model_module": "@jupyter-widgets/controls",
            "layout": "IPY_MODEL_aa3d636ef99b44279acac74f6bf6679a"
          }
        },
        "3440c3207171452184703bc849c01fc9": {
          "model_module": "@jupyter-widgets/controls",
          "model_name": "HTMLModel",
          "model_module_version": "1.5.0",
          "state": {
            "_view_name": "HTMLView",
            "style": "IPY_MODEL_b7114ce0bba24f20a6627d2efeef26ea",
            "_dom_classes": [],
            "description": "",
            "_model_name": "HTMLModel",
            "placeholder": "​",
            "_view_module": "@jupyter-widgets/controls",
            "_model_module_version": "1.5.0",
            "value": " 200/200 [00:16&lt;00:00, 12.21epoch/s]",
            "_view_count": null,
            "_view_module_version": "1.5.0",
            "description_tooltip": null,
            "_model_module": "@jupyter-widgets/controls",
            "layout": "IPY_MODEL_5354dc4d31ec4d13b16c96ca65ee6f27"
          }
        },
        "6f388a82fb974bb285c204e17b7b4f73": {
          "model_module": "@jupyter-widgets/controls",
          "model_name": "DescriptionStyleModel",
          "model_module_version": "1.5.0",
          "state": {
            "_view_name": "StyleView",
            "_model_name": "DescriptionStyleModel",
            "description_width": "",
            "_view_module": "@jupyter-widgets/base",
            "_model_module_version": "1.5.0",
            "_view_count": null,
            "_view_module_version": "1.2.0",
            "_model_module": "@jupyter-widgets/controls"
          }
        },
        "8b8460b01fbb4e21af77ed0608e5b83a": {
          "model_module": "@jupyter-widgets/base",
          "model_name": "LayoutModel",
          "model_module_version": "1.2.0",
          "state": {
            "_view_name": "LayoutView",
            "grid_template_rows": null,
            "right": null,
            "justify_content": null,
            "_view_module": "@jupyter-widgets/base",
            "overflow": null,
            "_model_module_version": "1.2.0",
            "_view_count": null,
            "flex_flow": null,
            "width": null,
            "min_width": null,
            "border": null,
            "align_items": null,
            "bottom": null,
            "_model_module": "@jupyter-widgets/base",
            "top": null,
            "grid_column": null,
            "overflow_y": null,
            "overflow_x": null,
            "grid_auto_flow": null,
            "grid_area": null,
            "grid_template_columns": null,
            "flex": null,
            "_model_name": "LayoutModel",
            "justify_items": null,
            "grid_row": null,
            "max_height": null,
            "align_content": null,
            "visibility": null,
            "align_self": null,
            "height": null,
            "min_height": null,
            "padding": null,
            "grid_auto_rows": null,
            "grid_gap": null,
            "max_width": null,
            "order": null,
            "_view_module_version": "1.2.0",
            "grid_template_areas": null,
            "object_position": null,
            "object_fit": null,
            "grid_auto_columns": null,
            "margin": null,
            "display": null,
            "left": null
          }
        },
        "e325327f32174cd480279b3690a978d1": {
          "model_module": "@jupyter-widgets/controls",
          "model_name": "ProgressStyleModel",
          "model_module_version": "1.5.0",
          "state": {
            "_view_name": "StyleView",
            "_model_name": "ProgressStyleModel",
            "description_width": "",
            "_view_module": "@jupyter-widgets/base",
            "_model_module_version": "1.5.0",
            "_view_count": null,
            "_view_module_version": "1.2.0",
            "bar_color": null,
            "_model_module": "@jupyter-widgets/controls"
          }
        },
        "aa3d636ef99b44279acac74f6bf6679a": {
          "model_module": "@jupyter-widgets/base",
          "model_name": "LayoutModel",
          "model_module_version": "1.2.0",
          "state": {
            "_view_name": "LayoutView",
            "grid_template_rows": null,
            "right": null,
            "justify_content": null,
            "_view_module": "@jupyter-widgets/base",
            "overflow": null,
            "_model_module_version": "1.2.0",
            "_view_count": null,
            "flex_flow": null,
            "width": null,
            "min_width": null,
            "border": null,
            "align_items": null,
            "bottom": null,
            "_model_module": "@jupyter-widgets/base",
            "top": null,
            "grid_column": null,
            "overflow_y": null,
            "overflow_x": null,
            "grid_auto_flow": null,
            "grid_area": null,
            "grid_template_columns": null,
            "flex": null,
            "_model_name": "LayoutModel",
            "justify_items": null,
            "grid_row": null,
            "max_height": null,
            "align_content": null,
            "visibility": null,
            "align_self": null,
            "height": null,
            "min_height": null,
            "padding": null,
            "grid_auto_rows": null,
            "grid_gap": null,
            "max_width": null,
            "order": null,
            "_view_module_version": "1.2.0",
            "grid_template_areas": null,
            "object_position": null,
            "object_fit": null,
            "grid_auto_columns": null,
            "margin": null,
            "display": null,
            "left": null
          }
        },
        "b7114ce0bba24f20a6627d2efeef26ea": {
          "model_module": "@jupyter-widgets/controls",
          "model_name": "DescriptionStyleModel",
          "model_module_version": "1.5.0",
          "state": {
            "_view_name": "StyleView",
            "_model_name": "DescriptionStyleModel",
            "description_width": "",
            "_view_module": "@jupyter-widgets/base",
            "_model_module_version": "1.5.0",
            "_view_count": null,
            "_view_module_version": "1.2.0",
            "_model_module": "@jupyter-widgets/controls"
          }
        },
        "5354dc4d31ec4d13b16c96ca65ee6f27": {
          "model_module": "@jupyter-widgets/base",
          "model_name": "LayoutModel",
          "model_module_version": "1.2.0",
          "state": {
            "_view_name": "LayoutView",
            "grid_template_rows": null,
            "right": null,
            "justify_content": null,
            "_view_module": "@jupyter-widgets/base",
            "overflow": null,
            "_model_module_version": "1.2.0",
            "_view_count": null,
            "flex_flow": null,
            "width": null,
            "min_width": null,
            "border": null,
            "align_items": null,
            "bottom": null,
            "_model_module": "@jupyter-widgets/base",
            "top": null,
            "grid_column": null,
            "overflow_y": null,
            "overflow_x": null,
            "grid_auto_flow": null,
            "grid_area": null,
            "grid_template_columns": null,
            "flex": null,
            "_model_name": "LayoutModel",
            "justify_items": null,
            "grid_row": null,
            "max_height": null,
            "align_content": null,
            "visibility": null,
            "align_self": null,
            "height": null,
            "min_height": null,
            "padding": null,
            "grid_auto_rows": null,
            "grid_gap": null,
            "max_width": null,
            "order": null,
            "_view_module_version": "1.2.0",
            "grid_template_areas": null,
            "object_position": null,
            "object_fit": null,
            "grid_auto_columns": null,
            "margin": null,
            "display": null,
            "left": null
          }
        },
        "93722d3c14424fb5ad1eb52c779d3e69": {
          "model_module": "@jupyter-widgets/controls",
          "model_name": "HBoxModel",
          "model_module_version": "1.5.0",
          "state": {
            "_view_name": "HBoxView",
            "_dom_classes": [],
            "_model_name": "HBoxModel",
            "_view_module": "@jupyter-widgets/controls",
            "_model_module_version": "1.5.0",
            "_view_count": null,
            "_view_module_version": "1.5.0",
            "box_style": "",
            "layout": "IPY_MODEL_2119e8d2f2dd4c8ba24230a599e0a096",
            "_model_module": "@jupyter-widgets/controls",
            "children": [
              "IPY_MODEL_6ebbd66b8868443084f990d4c326e136",
              "IPY_MODEL_63a977266c00491fa20c9b09b6f95024",
              "IPY_MODEL_2dcd257d87b74d73ad0915e876530758"
            ]
          }
        },
        "2119e8d2f2dd4c8ba24230a599e0a096": {
          "model_module": "@jupyter-widgets/base",
          "model_name": "LayoutModel",
          "model_module_version": "1.2.0",
          "state": {
            "_view_name": "LayoutView",
            "grid_template_rows": null,
            "right": null,
            "justify_content": null,
            "_view_module": "@jupyter-widgets/base",
            "overflow": null,
            "_model_module_version": "1.2.0",
            "_view_count": null,
            "flex_flow": null,
            "width": null,
            "min_width": null,
            "border": null,
            "align_items": null,
            "bottom": null,
            "_model_module": "@jupyter-widgets/base",
            "top": null,
            "grid_column": null,
            "overflow_y": null,
            "overflow_x": null,
            "grid_auto_flow": null,
            "grid_area": null,
            "grid_template_columns": null,
            "flex": null,
            "_model_name": "LayoutModel",
            "justify_items": null,
            "grid_row": null,
            "max_height": null,
            "align_content": null,
            "visibility": null,
            "align_self": null,
            "height": null,
            "min_height": null,
            "padding": null,
            "grid_auto_rows": null,
            "grid_gap": null,
            "max_width": null,
            "order": null,
            "_view_module_version": "1.2.0",
            "grid_template_areas": null,
            "object_position": null,
            "object_fit": null,
            "grid_auto_columns": null,
            "margin": null,
            "display": null,
            "left": null
          }
        },
        "6ebbd66b8868443084f990d4c326e136": {
          "model_module": "@jupyter-widgets/controls",
          "model_name": "HTMLModel",
          "model_module_version": "1.5.0",
          "state": {
            "_view_name": "HTMLView",
            "style": "IPY_MODEL_b2741fe40a584a319655431f42b765af",
            "_dom_classes": [],
            "description": "",
            "_model_name": "HTMLModel",
            "placeholder": "​",
            "_view_module": "@jupyter-widgets/controls",
            "_model_module_version": "1.5.0",
            "value": "Link prediction evaluation: 100%",
            "_view_count": null,
            "_view_module_version": "1.5.0",
            "description_tooltip": null,
            "_model_module": "@jupyter-widgets/controls",
            "layout": "IPY_MODEL_1b3d50d7ddaf4c1a9c3313bfad7a42d2"
          }
        },
        "63a977266c00491fa20c9b09b6f95024": {
          "model_module": "@jupyter-widgets/controls",
          "model_name": "FloatProgressModel",
          "model_module_version": "1.5.0",
          "state": {
            "_view_name": "ProgressView",
            "style": "IPY_MODEL_ac12a013c4da453d85b869f595573b0f",
            "_dom_classes": [],
            "description": "",
            "_model_name": "FloatProgressModel",
            "bar_style": "success",
            "max": 17,
            "_view_module": "@jupyter-widgets/controls",
            "_model_module_version": "1.5.0",
            "value": 17,
            "_view_count": null,
            "_view_module_version": "1.5.0",
            "orientation": "horizontal",
            "min": 0,
            "description_tooltip": null,
            "_model_module": "@jupyter-widgets/controls",
            "layout": "IPY_MODEL_44b3cf860f4c4ef293befb74b4c00657"
          }
        },
        "2dcd257d87b74d73ad0915e876530758": {
          "model_module": "@jupyter-widgets/controls",
          "model_name": "HTMLModel",
          "model_module_version": "1.5.0",
          "state": {
            "_view_name": "HTMLView",
            "style": "IPY_MODEL_48f6a9bbd8e5467993bab7c8d5e40def",
            "_dom_classes": [],
            "description": "",
            "_model_name": "HTMLModel",
            "placeholder": "​",
            "_view_module": "@jupyter-widgets/controls",
            "_model_module_version": "1.5.0",
            "value": " 17/17 [00:03&lt;00:00,  5.81batch/s]",
            "_view_count": null,
            "_view_module_version": "1.5.0",
            "description_tooltip": null,
            "_model_module": "@jupyter-widgets/controls",
            "layout": "IPY_MODEL_5c2636f4d4964a6d90a921fbd7d96af6"
          }
        },
        "b2741fe40a584a319655431f42b765af": {
          "model_module": "@jupyter-widgets/controls",
          "model_name": "DescriptionStyleModel",
          "model_module_version": "1.5.0",
          "state": {
            "_view_name": "StyleView",
            "_model_name": "DescriptionStyleModel",
            "description_width": "",
            "_view_module": "@jupyter-widgets/base",
            "_model_module_version": "1.5.0",
            "_view_count": null,
            "_view_module_version": "1.2.0",
            "_model_module": "@jupyter-widgets/controls"
          }
        },
        "1b3d50d7ddaf4c1a9c3313bfad7a42d2": {
          "model_module": "@jupyter-widgets/base",
          "model_name": "LayoutModel",
          "model_module_version": "1.2.0",
          "state": {
            "_view_name": "LayoutView",
            "grid_template_rows": null,
            "right": null,
            "justify_content": null,
            "_view_module": "@jupyter-widgets/base",
            "overflow": null,
            "_model_module_version": "1.2.0",
            "_view_count": null,
            "flex_flow": null,
            "width": null,
            "min_width": null,
            "border": null,
            "align_items": null,
            "bottom": null,
            "_model_module": "@jupyter-widgets/base",
            "top": null,
            "grid_column": null,
            "overflow_y": null,
            "overflow_x": null,
            "grid_auto_flow": null,
            "grid_area": null,
            "grid_template_columns": null,
            "flex": null,
            "_model_name": "LayoutModel",
            "justify_items": null,
            "grid_row": null,
            "max_height": null,
            "align_content": null,
            "visibility": null,
            "align_self": null,
            "height": null,
            "min_height": null,
            "padding": null,
            "grid_auto_rows": null,
            "grid_gap": null,
            "max_width": null,
            "order": null,
            "_view_module_version": "1.2.0",
            "grid_template_areas": null,
            "object_position": null,
            "object_fit": null,
            "grid_auto_columns": null,
            "margin": null,
            "display": null,
            "left": null
          }
        },
        "ac12a013c4da453d85b869f595573b0f": {
          "model_module": "@jupyter-widgets/controls",
          "model_name": "ProgressStyleModel",
          "model_module_version": "1.5.0",
          "state": {
            "_view_name": "StyleView",
            "_model_name": "ProgressStyleModel",
            "description_width": "",
            "_view_module": "@jupyter-widgets/base",
            "_model_module_version": "1.5.0",
            "_view_count": null,
            "_view_module_version": "1.2.0",
            "bar_color": null,
            "_model_module": "@jupyter-widgets/controls"
          }
        },
        "44b3cf860f4c4ef293befb74b4c00657": {
          "model_module": "@jupyter-widgets/base",
          "model_name": "LayoutModel",
          "model_module_version": "1.2.0",
          "state": {
            "_view_name": "LayoutView",
            "grid_template_rows": null,
            "right": null,
            "justify_content": null,
            "_view_module": "@jupyter-widgets/base",
            "overflow": null,
            "_model_module_version": "1.2.0",
            "_view_count": null,
            "flex_flow": null,
            "width": null,
            "min_width": null,
            "border": null,
            "align_items": null,
            "bottom": null,
            "_model_module": "@jupyter-widgets/base",
            "top": null,
            "grid_column": null,
            "overflow_y": null,
            "overflow_x": null,
            "grid_auto_flow": null,
            "grid_area": null,
            "grid_template_columns": null,
            "flex": null,
            "_model_name": "LayoutModel",
            "justify_items": null,
            "grid_row": null,
            "max_height": null,
            "align_content": null,
            "visibility": null,
            "align_self": null,
            "height": null,
            "min_height": null,
            "padding": null,
            "grid_auto_rows": null,
            "grid_gap": null,
            "max_width": null,
            "order": null,
            "_view_module_version": "1.2.0",
            "grid_template_areas": null,
            "object_position": null,
            "object_fit": null,
            "grid_auto_columns": null,
            "margin": null,
            "display": null,
            "left": null
          }
        },
        "48f6a9bbd8e5467993bab7c8d5e40def": {
          "model_module": "@jupyter-widgets/controls",
          "model_name": "DescriptionStyleModel",
          "model_module_version": "1.5.0",
          "state": {
            "_view_name": "StyleView",
            "_model_name": "DescriptionStyleModel",
            "description_width": "",
            "_view_module": "@jupyter-widgets/base",
            "_model_module_version": "1.5.0",
            "_view_count": null,
            "_view_module_version": "1.2.0",
            "_model_module": "@jupyter-widgets/controls"
          }
        },
        "5c2636f4d4964a6d90a921fbd7d96af6": {
          "model_module": "@jupyter-widgets/base",
          "model_name": "LayoutModel",
          "model_module_version": "1.2.0",
          "state": {
            "_view_name": "LayoutView",
            "grid_template_rows": null,
            "right": null,
            "justify_content": null,
            "_view_module": "@jupyter-widgets/base",
            "overflow": null,
            "_model_module_version": "1.2.0",
            "_view_count": null,
            "flex_flow": null,
            "width": null,
            "min_width": null,
            "border": null,
            "align_items": null,
            "bottom": null,
            "_model_module": "@jupyter-widgets/base",
            "top": null,
            "grid_column": null,
            "overflow_y": null,
            "overflow_x": null,
            "grid_auto_flow": null,
            "grid_area": null,
            "grid_template_columns": null,
            "flex": null,
            "_model_name": "LayoutModel",
            "justify_items": null,
            "grid_row": null,
            "max_height": null,
            "align_content": null,
            "visibility": null,
            "align_self": null,
            "height": null,
            "min_height": null,
            "padding": null,
            "grid_auto_rows": null,
            "grid_gap": null,
            "max_width": null,
            "order": null,
            "_view_module_version": "1.2.0",
            "grid_template_areas": null,
            "object_position": null,
            "object_fit": null,
            "grid_auto_columns": null,
            "margin": null,
            "display": null,
            "left": null
          }
        }
      }
    }
  },
  "cells": [
    {
      "cell_type": "markdown",
      "metadata": {
        "id": "a2SchDjOK60H"
      },
      "source": [
        "# Assignment — Knowledge Graph Embedding"
      ]
    },
    {
      "cell_type": "markdown",
      "metadata": {
        "id": "Jc_aVR7uK60M"
      },
      "source": [
        "In this assignment we will see how to use the [TorchKGE](https://github.com/torchkge-team/torchkge) library for building knowledge graphs and its embeddings."
      ]
    },
    {
      "cell_type": "code",
      "metadata": {
        "id": "3ncvld71K60N"
      },
      "source": [
        "import numpy as np\n",
        "import pandas as pd\n",
        "pd.options.display.max_colwidth = 100\n",
        "from zlib import adler32\n",
        "import requests"
      ],
      "execution_count": 1,
      "outputs": []
    },
    {
      "cell_type": "markdown",
      "metadata": {
        "id": "IGY2VZOyK60O"
      },
      "source": [
        "### Task 1. Dataset exploration (0 points)"
      ]
    },
    {
      "cell_type": "markdown",
      "metadata": {
        "id": "rpWffQcUK60P"
      },
      "source": [
        "To begin with we are going to need a knowledge graph, so let us load a standard knowledge graph dataset called _Freebase-15k-237_."
      ]
    },
    {
      "cell_type": "code",
      "metadata": {
        "id": "yvny0v6GK60P"
      },
      "source": [
        "df = pd.read_csv(\n",
        "    \"https://raw.githubusercontent.com/netspractice/network-science/main/datasets/freebase-237-merged-and-remapped.csv.gz\", \n",
        "    names=['h', 'r', 't'])"
      ],
      "execution_count": 2,
      "outputs": []
    },
    {
      "cell_type": "code",
      "metadata": {
        "id": "P_95wzXtK60Q",
        "colab": {
          "base_uri": "https://localhost:8080/",
          "height": 359
        },
        "outputId": "fa135ac4-7485-4a0c-bb06-868b26bc411e"
      },
      "source": [
        "df = df[~df.h.str.startswith('/') & ~df.t.str.startswith('/')]\n",
        "df[::1000].head(10)"
      ],
      "execution_count": 3,
      "outputs": [
        {
          "output_type": "execute_result",
          "data": {
            "text/html": [
              "<div>\n",
              "<style scoped>\n",
              "    .dataframe tbody tr th:only-of-type {\n",
              "        vertical-align: middle;\n",
              "    }\n",
              "\n",
              "    .dataframe tbody tr th {\n",
              "        vertical-align: top;\n",
              "    }\n",
              "\n",
              "    .dataframe thead th {\n",
              "        text-align: right;\n",
              "    }\n",
              "</style>\n",
              "<table border=\"1\" class=\"dataframe\">\n",
              "  <thead>\n",
              "    <tr style=\"text-align: right;\">\n",
              "      <th></th>\n",
              "      <th>h</th>\n",
              "      <th>r</th>\n",
              "      <th>t</th>\n",
              "    </tr>\n",
              "  </thead>\n",
              "  <tbody>\n",
              "    <tr>\n",
              "      <th>0</th>\n",
              "      <td>queens college, city university of new york</td>\n",
              "      <td>/education/educational_institution/students_graduates./education/education/student</td>\n",
              "      <td>carol leifer</td>\n",
              "    </tr>\n",
              "    <tr>\n",
              "      <th>1103</th>\n",
              "      <td>sharon stone</td>\n",
              "      <td>/award/award_nominee/award_nominations./award/award_nomination/award_nominee</td>\n",
              "      <td>jacob vargas</td>\n",
              "    </tr>\n",
              "    <tr>\n",
              "      <th>2210</th>\n",
              "      <td>japan</td>\n",
              "      <td>/location/country/capital</td>\n",
              "      <td>tokyo</td>\n",
              "    </tr>\n",
              "    <tr>\n",
              "      <th>3329</th>\n",
              "      <td>syphilis</td>\n",
              "      <td>/medicine/disease/risk_factors</td>\n",
              "      <td>male</td>\n",
              "    </tr>\n",
              "    <tr>\n",
              "      <th>4447</th>\n",
              "      <td>michael carlisle hall</td>\n",
              "      <td>/award/award_nominee/award_nominations./award/award_nomination/award_nominee</td>\n",
              "      <td>mena suvari</td>\n",
              "    </tr>\n",
              "    <tr>\n",
              "      <th>5555</th>\n",
              "      <td>alice in wonderland</td>\n",
              "      <td>/film/film/language</td>\n",
              "      <td>english language</td>\n",
              "    </tr>\n",
              "    <tr>\n",
              "      <th>6653</th>\n",
              "      <td>nauru</td>\n",
              "      <td>/location/country/official_language</td>\n",
              "      <td>english language</td>\n",
              "    </tr>\n",
              "    <tr>\n",
              "      <th>7743</th>\n",
              "      <td>ben harper</td>\n",
              "      <td>/people/person/spouse_s./people/marriage/type_of_union</td>\n",
              "      <td>marriage</td>\n",
              "    </tr>\n",
              "    <tr>\n",
              "      <th>8840</th>\n",
              "      <td>the perks of being a wallflower</td>\n",
              "      <td>/film/film/country</td>\n",
              "      <td>united states of america</td>\n",
              "    </tr>\n",
              "    <tr>\n",
              "      <th>9960</th>\n",
              "      <td>vice president</td>\n",
              "      <td>/business/job_title/people_with_this_title./business/employment_tenure/company</td>\n",
              "      <td>scripps howard broadcasting</td>\n",
              "    </tr>\n",
              "  </tbody>\n",
              "</table>\n",
              "</div>"
            ],
            "text/plain": [
              "                                                h  ...                            t\n",
              "0     queens college, city university of new york  ...                 carol leifer\n",
              "1103                                 sharon stone  ...                 jacob vargas\n",
              "2210                                        japan  ...                        tokyo\n",
              "3329                                     syphilis  ...                         male\n",
              "4447                        michael carlisle hall  ...                  mena suvari\n",
              "5555                          alice in wonderland  ...             english language\n",
              "6653                                        nauru  ...             english language\n",
              "7743                                   ben harper  ...                     marriage\n",
              "8840              the perks of being a wallflower  ...     united states of america\n",
              "9960                               vice president  ...  scripps howard broadcasting\n",
              "\n",
              "[10 rows x 3 columns]"
            ]
          },
          "metadata": {},
          "execution_count": 3
        }
      ]
    },
    {
      "cell_type": "markdown",
      "metadata": {
        "id": "l_ZtEGoPK60R"
      },
      "source": [
        "There is h — head (also subject), r — relation (also predicat, label), t — tail (also object). The shape of the dataset is"
      ]
    },
    {
      "cell_type": "code",
      "metadata": {
        "id": "pMw60f30K60R",
        "colab": {
          "base_uri": "https://localhost:8080/"
        },
        "outputId": "6258630f-beec-4aa5-8f42-adb9dc6971be"
      },
      "source": [
        "df.shape"
      ],
      "execution_count": 4,
      "outputs": [
        {
          "output_type": "execute_result",
          "data": {
            "text/plain": [
              "(282560, 3)"
            ]
          },
          "metadata": {},
          "execution_count": 4
        }
      ]
    },
    {
      "cell_type": "markdown",
      "metadata": {
        "id": "9w5VNlTbK60S"
      },
      "source": [
        "Let us check the number of unique entities and unique relations.\n",
        "\n",
        "Write a funtion `n_ent_rel` that takes a dataset and returns a number of unique entities and unique relations.\n"
      ]
    },
    {
      "cell_type": "code",
      "metadata": {
        "deletable": false,
        "nbgrader": {
          "cell_type": "code",
          "checksum": "e835a990ce88589b1e4baa4e213e5aed",
          "grade": false,
          "grade_id": "cell-a1c37b647b2bd8d4",
          "locked": false,
          "schema_version": 3,
          "solution": true,
          "task": false
        },
        "id": "-5y7ZMkhK60T"
      },
      "source": [
        "def n_ent_rel(df):\n",
        "    ### BEGIN SOLUTION\n",
        "    X = df.values\n",
        "    n_ent = np.unique(np.concatenate([X[:, 0], X[:, 2]])).shape[0]\n",
        "    n_rel = np.unique(X[:, 1]).shape[0]\n",
        "    return n_ent, n_rel\n",
        "    ### END SOLUTION"
      ],
      "execution_count": 5,
      "outputs": []
    },
    {
      "cell_type": "code",
      "metadata": {
        "deletable": false,
        "editable": false,
        "nbgrader": {
          "cell_type": "code",
          "checksum": "4c38a2775794c5a0dabc449667e27643",
          "grade": true,
          "grade_id": "cell-e297130eb1b840de",
          "locked": true,
          "points": 0,
          "schema_version": 3,
          "solution": false,
          "task": false
        },
        "id": "DKHcDblxK60T",
        "colab": {
          "base_uri": "https://localhost:8080/"
        },
        "outputId": "750a202c-6cf2-41a7-af1f-6eea68fb53e7"
      },
      "source": [
        "n_ent, n_rel = n_ent_rel(df)\n",
        "assert adler32(str(n_ent + n_ent).encode()) == 50266365\n",
        "n_ent, n_rel"
      ],
      "execution_count": 6,
      "outputs": [
        {
          "output_type": "execute_result",
          "data": {
            "text/plain": [
              "(13506, 228)"
            ]
          },
          "metadata": {},
          "execution_count": 6
        }
      ]
    },
    {
      "cell_type": "markdown",
      "metadata": {
        "id": "1uY5v4yVK60T"
      },
      "source": [
        "We can look at all facts about any entity via pandas API"
      ]
    },
    {
      "cell_type": "code",
      "metadata": {
        "id": "6EBOwS0TK60T",
        "colab": {
          "base_uri": "https://localhost:8080/",
          "height": 204
        },
        "outputId": "3b91797a-a7cb-4fae-984c-270f3a16594d"
      },
      "source": [
        "df[df.h ==  'aleksandr pushkin'].head()"
      ],
      "execution_count": 7,
      "outputs": [
        {
          "output_type": "execute_result",
          "data": {
            "text/html": [
              "<div>\n",
              "<style scoped>\n",
              "    .dataframe tbody tr th:only-of-type {\n",
              "        vertical-align: middle;\n",
              "    }\n",
              "\n",
              "    .dataframe tbody tr th {\n",
              "        vertical-align: top;\n",
              "    }\n",
              "\n",
              "    .dataframe thead th {\n",
              "        text-align: right;\n",
              "    }\n",
              "</style>\n",
              "<table border=\"1\" class=\"dataframe\">\n",
              "  <thead>\n",
              "    <tr style=\"text-align: right;\">\n",
              "      <th></th>\n",
              "      <th>h</th>\n",
              "      <th>r</th>\n",
              "      <th>t</th>\n",
              "    </tr>\n",
              "  </thead>\n",
              "  <tbody>\n",
              "    <tr>\n",
              "      <th>4107</th>\n",
              "      <td>aleksandr pushkin</td>\n",
              "      <td>/people/person/profession</td>\n",
              "      <td>poet</td>\n",
              "    </tr>\n",
              "    <tr>\n",
              "      <th>14992</th>\n",
              "      <td>aleksandr pushkin</td>\n",
              "      <td>/influence/influence_node/influenced_by</td>\n",
              "      <td>johann wolfgang von goethe</td>\n",
              "    </tr>\n",
              "    <tr>\n",
              "      <th>19525</th>\n",
              "      <td>aleksandr pushkin</td>\n",
              "      <td>/people/person/nationality</td>\n",
              "      <td>russian empire</td>\n",
              "    </tr>\n",
              "    <tr>\n",
              "      <th>40237</th>\n",
              "      <td>aleksandr pushkin</td>\n",
              "      <td>/people/person/place_of_birth</td>\n",
              "      <td>moscow</td>\n",
              "    </tr>\n",
              "    <tr>\n",
              "      <th>47411</th>\n",
              "      <td>aleksandr pushkin</td>\n",
              "      <td>/influence/influence_node/influenced_by</td>\n",
              "      <td>william shakespeare</td>\n",
              "    </tr>\n",
              "  </tbody>\n",
              "</table>\n",
              "</div>"
            ],
            "text/plain": [
              "                       h  ...                           t\n",
              "4107   aleksandr pushkin  ...                        poet\n",
              "14992  aleksandr pushkin  ...  johann wolfgang von goethe\n",
              "19525  aleksandr pushkin  ...              russian empire\n",
              "40237  aleksandr pushkin  ...                      moscow\n",
              "47411  aleksandr pushkin  ...         william shakespeare\n",
              "\n",
              "[5 rows x 3 columns]"
            ]
          },
          "metadata": {},
          "execution_count": 7
        }
      ]
    },
    {
      "cell_type": "code",
      "metadata": {
        "id": "AwWOwXxOK60U",
        "colab": {
          "base_uri": "https://localhost:8080/",
          "height": 80
        },
        "outputId": "940393e5-ae61-4ee1-9f56-126e700a07e8"
      },
      "source": [
        "df[(df.h ==  'aleksandr pushkin') & (df.t == 'nikolai gogol')]"
      ],
      "execution_count": 8,
      "outputs": [
        {
          "output_type": "execute_result",
          "data": {
            "text/html": [
              "<div>\n",
              "<style scoped>\n",
              "    .dataframe tbody tr th:only-of-type {\n",
              "        vertical-align: middle;\n",
              "    }\n",
              "\n",
              "    .dataframe tbody tr th {\n",
              "        vertical-align: top;\n",
              "    }\n",
              "\n",
              "    .dataframe thead th {\n",
              "        text-align: right;\n",
              "    }\n",
              "</style>\n",
              "<table border=\"1\" class=\"dataframe\">\n",
              "  <thead>\n",
              "    <tr style=\"text-align: right;\">\n",
              "      <th></th>\n",
              "      <th>h</th>\n",
              "      <th>r</th>\n",
              "      <th>t</th>\n",
              "    </tr>\n",
              "  </thead>\n",
              "  <tbody>\n",
              "    <tr>\n",
              "      <th>145219</th>\n",
              "      <td>aleksandr pushkin</td>\n",
              "      <td>/influence/influence_node/peers./influence/peer_relationship/peers</td>\n",
              "      <td>nikolai gogol</td>\n",
              "    </tr>\n",
              "  </tbody>\n",
              "</table>\n",
              "</div>"
            ],
            "text/plain": [
              "                        h  ...              t\n",
              "145219  aleksandr pushkin  ...  nikolai gogol\n",
              "\n",
              "[1 rows x 3 columns]"
            ]
          },
          "metadata": {},
          "execution_count": 8
        }
      ]
    },
    {
      "cell_type": "code",
      "metadata": {
        "id": "Hf_2GTRwK60U",
        "colab": {
          "base_uri": "https://localhost:8080/",
          "height": 111
        },
        "outputId": "074362db-7266-46f9-9015-3b78825a32a5"
      },
      "source": [
        "df[(df.h ==  'nikolai gogol') & (df.t == 'aleksandr pushkin')]"
      ],
      "execution_count": 9,
      "outputs": [
        {
          "output_type": "execute_result",
          "data": {
            "text/html": [
              "<div>\n",
              "<style scoped>\n",
              "    .dataframe tbody tr th:only-of-type {\n",
              "        vertical-align: middle;\n",
              "    }\n",
              "\n",
              "    .dataframe tbody tr th {\n",
              "        vertical-align: top;\n",
              "    }\n",
              "\n",
              "    .dataframe thead th {\n",
              "        text-align: right;\n",
              "    }\n",
              "</style>\n",
              "<table border=\"1\" class=\"dataframe\">\n",
              "  <thead>\n",
              "    <tr style=\"text-align: right;\">\n",
              "      <th></th>\n",
              "      <th>h</th>\n",
              "      <th>r</th>\n",
              "      <th>t</th>\n",
              "    </tr>\n",
              "  </thead>\n",
              "  <tbody>\n",
              "    <tr>\n",
              "      <th>86362</th>\n",
              "      <td>nikolai gogol</td>\n",
              "      <td>/influence/influence_node/peers./influence/peer_relationship/peers</td>\n",
              "      <td>aleksandr pushkin</td>\n",
              "    </tr>\n",
              "    <tr>\n",
              "      <th>269512</th>\n",
              "      <td>nikolai gogol</td>\n",
              "      <td>/influence/influence_node/influenced_by</td>\n",
              "      <td>aleksandr pushkin</td>\n",
              "    </tr>\n",
              "  </tbody>\n",
              "</table>\n",
              "</div>"
            ],
            "text/plain": [
              "                    h  ...                  t\n",
              "86362   nikolai gogol  ...  aleksandr pushkin\n",
              "269512  nikolai gogol  ...  aleksandr pushkin\n",
              "\n",
              "[2 rows x 3 columns]"
            ]
          },
          "metadata": {},
          "execution_count": 9
        }
      ]
    },
    {
      "cell_type": "markdown",
      "metadata": {
        "id": "kbNS7iE8K60U"
      },
      "source": [
        "Let us try to find some facts in this dataset. For example, what is Harrison Ford's nationality? (\"harrison ford\" in the dataset)\n",
        "\n",
        "Write a function `harrison_ford_nationality` that takes a dataset and returns the nationality.\n",
        "\n",
        "_Hint: use `pandas.Series.str.contains` method_"
      ]
    },
    {
      "cell_type": "code",
      "metadata": {
        "deletable": false,
        "nbgrader": {
          "cell_type": "code",
          "checksum": "4f23d23c2036f17a865ee09c5de46253",
          "grade": false,
          "grade_id": "cell-bf2eb40c10e9971d",
          "locked": false,
          "schema_version": 3,
          "solution": true,
          "task": false
        },
        "id": "hTXvuCWnK60U"
      },
      "source": [
        "def harrison_ford_nationality(df):\n",
        "    ### BEGIN SOLUTION\n",
        "    return df[(df.h ==  'harrison ford') & df.r.str.contains('nationality')].t.iloc[0]\n",
        "    ### END SOLUTION"
      ],
      "execution_count": 10,
      "outputs": []
    },
    {
      "cell_type": "code",
      "metadata": {
        "deletable": false,
        "editable": false,
        "nbgrader": {
          "cell_type": "code",
          "checksum": "33ecca395ecdf947984d8d303239d6e8",
          "grade": true,
          "grade_id": "cell-e20681a97039cdf6",
          "locked": true,
          "points": 0,
          "schema_version": 3,
          "solution": false,
          "task": false
        },
        "id": "UD7A_QJjK60V",
        "colab": {
          "base_uri": "https://localhost:8080/",
          "height": 37
        },
        "outputId": "e864f0f7-f436-4df8-ffd2-31b2bd70aaea"
      },
      "source": [
        "assert adler32(harrison_ford_nationality(df).encode()) == 1948191013\n",
        "harrison_ford_nationality(df)"
      ],
      "execution_count": 11,
      "outputs": [
        {
          "output_type": "execute_result",
          "data": {
            "application/vnd.google.colaboratory.intrinsic+json": {
              "type": "string"
            },
            "text/plain": [
              "'united states of america'"
            ]
          },
          "metadata": {},
          "execution_count": 11
        }
      ]
    },
    {
      "cell_type": "markdown",
      "metadata": {
        "id": "QPHw2hybK60V"
      },
      "source": [
        "More tricky question: who are film directors of movies where Harrison Ford was?\n",
        "\n",
        "Write a function `made_films_with_harrison_ford` that returns a set of directors' names."
      ]
    },
    {
      "cell_type": "code",
      "metadata": {
        "deletable": false,
        "nbgrader": {
          "cell_type": "code",
          "checksum": "ac4a71f632063e89560fc4127de263b1",
          "grade": false,
          "grade_id": "cell-7ea1e48135c759d5",
          "locked": false,
          "schema_version": 3,
          "solution": true,
          "task": false
        },
        "id": "YUuTmHGjK60V"
      },
      "source": [
        "def made_films_with_harrison_ford(df):\n",
        "    ### BEGIN SOLUTION\n",
        "    films = df[(df.h ==  'harrison ford') & df.r.str.contains('actor')].t.tolist()\n",
        "    directors = df[df.t.isin(films) & df.r.str.contains('director')].h\n",
        "    return set(directors)\n",
        "    ### END SOLUTION"
      ],
      "execution_count": 12,
      "outputs": []
    },
    {
      "cell_type": "code",
      "metadata": {
        "deletable": false,
        "editable": false,
        "nbgrader": {
          "cell_type": "code",
          "checksum": "2eb7754948b26f5dd5ea253755fa788b",
          "grade": true,
          "grade_id": "cell-f3dbc03094dcbb5b",
          "locked": true,
          "points": 0,
          "schema_version": 3,
          "solution": false,
          "task": false
        },
        "id": "vWs_vFGgK60V",
        "colab": {
          "base_uri": "https://localhost:8080/"
        },
        "outputId": "eb2d4d2f-3275-4c3a-b83a-f18f3c8d4a09"
      },
      "source": [
        "directors = made_films_with_harrison_ford(df)\n",
        "assert adler32(str(sorted(directors)).encode()) == 3798415057\n",
        "directors"
      ],
      "execution_count": 13,
      "outputs": [
        {
          "output_type": "execute_result",
          "data": {
            "text/plain": [
              "{'francis ford coppola',\n",
              " 'george lucas',\n",
              " 'jon favreau filmography',\n",
              " 'kathryn bigelow',\n",
              " 'mike nichols',\n",
              " 'ridley scott',\n",
              " 'robert zemeckis',\n",
              " 'steven spielberg'}"
            ]
          },
          "metadata": {},
          "execution_count": 13
        }
      ]
    },
    {
      "cell_type": "markdown",
      "metadata": {
        "id": "6sh5HROwK60V"
      },
      "source": [
        "### Task 2. TransE embedding model (2 points)"
      ]
    },
    {
      "cell_type": "markdown",
      "metadata": {
        "id": "zJGCAsilK60W"
      },
      "source": [
        "TransE (translations in the embedding space) is a method which models relationships by interpreting them as translations operating on the low-dimensional embeddings of the entities.\n",
        "\n",
        "Let us implement the model using TorchKGE — a Python module for knowledge graph embedding relying solely on Pytorch."
      ]
    },
    {
      "cell_type": "code",
      "metadata": {
        "id": "Xg4iKE_cK60W",
        "colab": {
          "base_uri": "https://localhost:8080/"
        },
        "outputId": "bee63c4f-4c68-4c96-9f04-5e0a32ed6141"
      },
      "source": [
        "!pip install torchkge==0.16.25 -q"
      ],
      "execution_count": 14,
      "outputs": [
        {
          "output_type": "stream",
          "name": "stdout",
          "text": [
            "\u001b[?25l\r\u001b[K     |██████▉                         | 10 kB 26.9 MB/s eta 0:00:01\r\u001b[K     |█████████████▋                  | 20 kB 29.8 MB/s eta 0:00:01\r\u001b[K     |████████████████████▍           | 30 kB 19.5 MB/s eta 0:00:01\r\u001b[K     |███████████████████████████▏    | 40 kB 15.7 MB/s eta 0:00:01\r\u001b[K     |████████████████████████████████| 48 kB 3.0 MB/s \n",
            "\u001b[?25h"
          ]
        }
      ]
    },
    {
      "cell_type": "code",
      "metadata": {
        "id": "U_RMcZFAK60W"
      },
      "source": [
        "import torch\n",
        "from torch import nn\n",
        "import torch.nn.functional as F\n",
        "from torchkge import KnowledgeGraph\n",
        "from torchkge.utils import Trainer\n",
        "from torchkge.evaluation import LinkPredictionEvaluator\n",
        "from torchkge.models.interfaces import TranslationModel\n",
        "from torch.nn.init import xavier_uniform_"
      ],
      "execution_count": 15,
      "outputs": []
    },
    {
      "cell_type": "markdown",
      "metadata": {
        "id": "Z7OHCTe5K60W"
      },
      "source": [
        "<img src='https://github.com/netspractice/ml-on-graphs/raw/main/assignment_knowledge_graph_embedding/kge.png' width=300>"
      ]
    },
    {
      "cell_type": "markdown",
      "metadata": {
        "id": "WBaQpBkFK60W"
      },
      "source": [
        "The basic idea behind the model is that the functional relation induced by the $r$-labeled edges corresponds to a translation of the embeddings, i.e. we want that $h + r \\approx t$ when ($h$, $r$, $t$) holds ($t$ should be a nearest neighbor of $h + r$), while $h + r$ should be far away from $t$ otherwise. Thereby, TransE scoring function is negative distance between $h+r$ and $t$\n",
        "\n",
        "$$f(h, r, t) = -||h + r - t||$$\n",
        "\n",
        "where $||\\cdot||$ is L1 or L2 norm. The goal of the optimization procedure is learning optimal embeddings, such that the scoring function is able to assign high scores to positive statements and low scores to statements unlikely to be true. The most common loss function is Margin Loss that can be represented as\n",
        "\n",
        "$$L = \\text{ReLU}\\left(\\gamma - f(h, r, t) + f(h', r, t')\\right)$$\n",
        "\n",
        "where $\\gamma > 0$ is a \"margin\" hyperparameter, the triplet $(h, r, t)$ is in a training set (positive) and the $(h', r, t')$ is in a set of *corrupted* (negative) triplets, that are composed of training triplets with either the head or tail replaced by a random entity (but not both at the same time)."
      ]
    },
    {
      "cell_type": "markdown",
      "metadata": {
        "id": "GAuAAuMHK60X"
      },
      "source": [
        "We will use TorchKGE TranslationModel as a base for TransE class, here are some auxiliary methods: \n",
        "\n",
        "* `normalize_parameters` applies `L2` normalization for training stability\n",
        "* `get_embeddings` returns the tensors representing entities and relations\n",
        "* `lp_prep_cands` gets entities and relations embeddings for link prediction training process\n",
        "* `forward` returns scores for positive triplets (`h`, `r`, `t`) and negative triplets (`nh`, `r`, `nt`)"
      ]
    },
    {
      "cell_type": "code",
      "metadata": {
        "id": "-atA75HaK60X"
      },
      "source": [
        "class BaseTransE(TranslationModel):\n",
        "    def __init__(self, num_entities, num_relations, dim=100):\n",
        "        super(BaseTransE, self).__init__(num_entities, num_relations, dissimilarity_type='L2')\n",
        "        self.num_entities = num_entities\n",
        "        self.num_relations = num_relations\n",
        "        self.dim = dim\n",
        "        self.ent_embeddings = nn.Embedding(num_entities, self.dim)\n",
        "        xavier_uniform_(self.ent_embeddings.weight.data)\n",
        "        self.rel_embeddings = nn.Embedding(num_relations, self.dim)\n",
        "        xavier_uniform_(self.rel_embeddings.weight.data)\n",
        "        \n",
        "        self.normalize_parameters()\n",
        "        self.rel_embeddings.weight.data = F.normalize(self.rel_embeddings.weight.data, p=2, dim=1)\n",
        "\n",
        "    def normalize_parameters(self):\n",
        "        self.ent_embeddings.weight.data = F.normalize(self.ent_embeddings.weight.data, p=2, dim=1)\n",
        "\n",
        "    def get_embeddings(self):\n",
        "        self.normalize_parameters()\n",
        "        return self.ent_embeddings.weight.data, self.rel_embeddings.weight.data\n",
        "        \n",
        "    def lp_prep_cands(self, h_idx, t_idx, r_idx):\n",
        "        b_size = h_idx.shape[0]\n",
        "\n",
        "        h_emb = self.ent_embeddings(h_idx)\n",
        "        t_emb = self.ent_embeddings(t_idx)\n",
        "        r_emb = self.rel_embeddings(r_idx)\n",
        "\n",
        "        candidates = self.ent_embeddings.weight.data.view(1, self.num_entities, self.dim)\n",
        "        candidates = candidates.expand(b_size, self.num_entities, self.dim)\n",
        "\n",
        "        return h_emb, t_emb, candidates, r_emb\n",
        "    \n",
        "    def forward(self, h, t, nh, nt, r):\n",
        "        return self.scoring_function(h, t, r), self.scoring_function(nh, nt, r)"
      ],
      "execution_count": 16,
      "outputs": []
    },
    {
      "cell_type": "markdown",
      "metadata": {
        "id": "xXKSeQKiK60X"
      },
      "source": [
        "Write a function `scoring_function` that takes a tensor `h`, `t`, `r` with triplets of the shape (number of triplets) and returns its L2 scores. For training stability, apply L2 normalization (`F.normalize`  with `p=2`) on entities embeddings before computing the scores. Note that `h`, `t`, `r` are tensors with integer IDs of entities and relations."
      ]
    },
    {
      "cell_type": "code",
      "metadata": {
        "deletable": false,
        "nbgrader": {
          "cell_type": "code",
          "checksum": "b28acb89a574281b6b491dc2a892fa97",
          "grade": false,
          "grade_id": "cell-10c450a856899a4f",
          "locked": false,
          "schema_version": 3,
          "solution": true,
          "task": false
        },
        "id": "9hAK2p7AK60Y"
      },
      "source": [
        "class TransE(BaseTransE):\n",
        "    def scoring_function(self, h, t, r):\n",
        "        return -torch.norm(F.normalize(self.ent_embeddings.weight[h], p=2, dim=1) + \n",
        "                           self.rel_embeddings.weight[r] - \n",
        "                           F.normalize(self.ent_embeddings.weight[t], p=2, dim=1), p=2, dim=1)"
      ],
      "execution_count": 18,
      "outputs": []
    },
    {
      "cell_type": "code",
      "metadata": {
        "deletable": false,
        "editable": false,
        "nbgrader": {
          "cell_type": "code",
          "checksum": "66b8a2c5364c811beed9f0983df16307",
          "grade": true,
          "grade_id": "cell-89f5ccbf84380079",
          "locked": true,
          "points": 0,
          "schema_version": 3,
          "solution": false,
          "task": false
        },
        "id": "--uHmPX-K60Y"
      },
      "source": [
        "torch.manual_seed(0)\n",
        "model = TransE(num_entities=5, num_relations=2, dim=2)\n",
        "model.ent_embeddings.weight.data = torch.randn(5, 2)\n",
        "model.rel_embeddings.weight.data = torch.randn(2, 2)\n",
        "\n",
        "h = torch.LongTensor([1, 1, 1])\n",
        "r = torch.LongTensor([0, 1, 1])\n",
        "t = torch.LongTensor([2, 2, 3])\n",
        "\n",
        "with torch.no_grad():\n",
        "    scores = model.scoring_function(h, t, r).numpy()\n",
        "assert scores.shape == (3, ) # 3 triplets\n",
        "assert adler32(str(scores.round(2)).encode()) == 628491186"
      ],
      "execution_count": 19,
      "outputs": []
    },
    {
      "cell_type": "markdown",
      "metadata": {
        "id": "ORurPYEFK60Y"
      },
      "source": [
        "Complete the class `MarginLoss` so that computes the losses among scores and returns an average loss. Positive and negative scores are tensors of the shape (number of triplets)."
      ]
    },
    {
      "cell_type": "code",
      "metadata": {
        "deletable": false,
        "nbgrader": {
          "cell_type": "code",
          "checksum": "e152703e15d1c0adb58fa5f20649adcc",
          "grade": false,
          "grade_id": "cell-3fb7cb717cb420cb",
          "locked": false,
          "schema_version": 3,
          "solution": true,
          "task": false
        },
        "id": "t1dGYINPK60Y"
      },
      "source": [
        "class MarginLoss(nn.Module):\n",
        "    def __init__(self, margin):\n",
        "        super().__init__()\n",
        "        self.margin = margin\n",
        "\n",
        "    def forward(self, positive_scores, negative_scores):\n",
        "        return torch.mean(F.relu(self.margin - positive_scores + negative_scores))"
      ],
      "execution_count": 21,
      "outputs": []
    },
    {
      "cell_type": "code",
      "metadata": {
        "deletable": false,
        "editable": false,
        "nbgrader": {
          "cell_type": "code",
          "checksum": "ddad8c020d3e0fe7112475c8f7a059fd",
          "grade": true,
          "grade_id": "cell-b28b48d0354bf7be",
          "locked": true,
          "points": 0,
          "schema_version": 3,
          "solution": false,
          "task": false
        },
        "id": "RLwvOAl4K60Y"
      },
      "source": [
        "loss_fn = MarginLoss(margin=0.5)\n",
        "torch.manual_seed(0)\n",
        "positive_scores = torch.randn(8)\n",
        "negative_scores = torch.randn(8)\n",
        "loss = loss_fn(positive_scores, negative_scores)\n",
        "assert loss.shape == torch.Size([])\n",
        "assert round(loss.item(), 2) == 0.79"
      ],
      "execution_count": 22,
      "outputs": []
    },
    {
      "cell_type": "markdown",
      "metadata": {
        "id": "yqkznajoK60Y"
      },
      "source": [
        "Let us look at the WikiDataSet that presents country-specific subgraphs of Wikidata."
      ]
    },
    {
      "cell_type": "code",
      "metadata": {
        "id": "W5isWKjuK60Z"
      },
      "source": [
        "url = 'https://raw.githubusercontent.com/netspractice/network-science/main/datasets/countries_edges.tsv'\n",
        "open('countries_edges.tsv', 'wb').write(requests.get(url).content)\n",
        "url = 'https://raw.githubusercontent.com/netspractice/network-science/main/datasets/countries_entities.tsv'\n",
        "open('countries_entities.tsv', 'wb').write(requests.get(url).content)\n",
        "url = 'https://raw.githubusercontent.com/netspractice/network-science/main/datasets/countries_relations.tsv'\n",
        "open('countries_relations.tsv', 'wb').write(requests.get(url).content);"
      ],
      "execution_count": 23,
      "outputs": []
    },
    {
      "cell_type": "code",
      "metadata": {
        "id": "zttAOJn6K60Z"
      },
      "source": [
        "edges = pd.read_csv('countries_edges.tsv', sep='\t').values\n",
        "entity_labels = pd.read_csv('countries_entities.tsv', sep='\t', index_col=0).label.values\n",
        "relation_labels = pd.read_csv('countries_relations.tsv', sep='\t', index_col=0).label.values"
      ],
      "execution_count": 24,
      "outputs": []
    },
    {
      "cell_type": "code",
      "metadata": {
        "id": "pS05Q5rKK60Z",
        "colab": {
          "base_uri": "https://localhost:8080/",
          "height": 204
        },
        "outputId": "8eb8af5c-2174-444b-bc14-06fc20942d52"
      },
      "source": [
        "edges_labeled = np.stack([entity_labels[edges[:, 0]], \n",
        "                          entity_labels[edges[:, 1]], \n",
        "                          relation_labels[edges[:, 2]]], axis=1)\n",
        "\n",
        "df = pd.DataFrame(edges_labeled, columns=['h', 't', 'r'])[['h', 'r', 't']]\n",
        "df.head()"
      ],
      "execution_count": 25,
      "outputs": [
        {
          "output_type": "execute_result",
          "data": {
            "text/html": [
              "<div>\n",
              "<style scoped>\n",
              "    .dataframe tbody tr th:only-of-type {\n",
              "        vertical-align: middle;\n",
              "    }\n",
              "\n",
              "    .dataframe tbody tr th {\n",
              "        vertical-align: top;\n",
              "    }\n",
              "\n",
              "    .dataframe thead th {\n",
              "        text-align: right;\n",
              "    }\n",
              "</style>\n",
              "<table border=\"1\" class=\"dataframe\">\n",
              "  <thead>\n",
              "    <tr style=\"text-align: right;\">\n",
              "      <th></th>\n",
              "      <th>h</th>\n",
              "      <th>r</th>\n",
              "      <th>t</th>\n",
              "    </tr>\n",
              "  </thead>\n",
              "  <tbody>\n",
              "    <tr>\n",
              "      <th>0</th>\n",
              "      <td>Belgium</td>\n",
              "      <td>country</td>\n",
              "      <td>Belgium</td>\n",
              "    </tr>\n",
              "    <tr>\n",
              "      <th>1</th>\n",
              "      <td>Belgium</td>\n",
              "      <td>diplomatic relation</td>\n",
              "      <td>Luxembourg</td>\n",
              "    </tr>\n",
              "    <tr>\n",
              "      <th>2</th>\n",
              "      <td>Belgium</td>\n",
              "      <td>diplomatic relation</td>\n",
              "      <td>Italy</td>\n",
              "    </tr>\n",
              "    <tr>\n",
              "      <th>3</th>\n",
              "      <td>Belgium</td>\n",
              "      <td>diplomatic relation</td>\n",
              "      <td>Germany</td>\n",
              "    </tr>\n",
              "    <tr>\n",
              "      <th>4</th>\n",
              "      <td>Belgium</td>\n",
              "      <td>diplomatic relation</td>\n",
              "      <td>Liechtenstein</td>\n",
              "    </tr>\n",
              "  </tbody>\n",
              "</table>\n",
              "</div>"
            ],
            "text/plain": [
              "         h                    r              t\n",
              "0  Belgium              country        Belgium\n",
              "1  Belgium  diplomatic relation     Luxembourg\n",
              "2  Belgium  diplomatic relation          Italy\n",
              "3  Belgium  diplomatic relation        Germany\n",
              "4  Belgium  diplomatic relation  Liechtenstein"
            ]
          },
          "metadata": {},
          "execution_count": 25
        }
      ]
    },
    {
      "cell_type": "markdown",
      "metadata": {
        "id": "rHJpkGMcK60Z"
      },
      "source": [
        "Here are unique relations with the number of triplets"
      ]
    },
    {
      "cell_type": "code",
      "metadata": {
        "id": "Ze97q6loK60Z",
        "colab": {
          "base_uri": "https://localhost:8080/"
        },
        "outputId": "4cd35163-e4c8-4f49-c6f4-812640abe8af"
      },
      "source": [
        "df.r.groupby(df.r).count()"
      ],
      "execution_count": 26,
      "outputs": [
        {
          "output_type": "execute_result",
          "data": {
            "text/plain": [
              "r\n",
              "applies to jurisdiction                                        1\n",
              "basic form of government                                       3\n",
              "biological process                                             1\n",
              "capital                                                       34\n",
              "capital of                                                    25\n",
              "contains administrative territorial entity                    94\n",
              "country                                                     1339\n",
              "country of citizenship                                         5\n",
              "country of origin                                              1\n",
              "culture                                                        3\n",
              "designated as terrorist by                                     9\n",
              "different from                                               113\n",
              "diplomatic relation                                         6145\n",
              "enclave within                                                 3\n",
              "facet of                                                      13\n",
              "family                                                         1\n",
              "followed by                                                  332\n",
              "follows                                                      316\n",
              "founded by                                                    11\n",
              "has contributing factor                                        1\n",
              "has part                                                     121\n",
              "headquarters location                                          8\n",
              "history of topic                                               2\n",
              "instance of                                                   18\n",
              "located in present-day administrative territorial entity       7\n",
              "located in the administrative territorial entity             212\n",
              "located on terrain feature                                    13\n",
              "location                                                       5\n",
              "location of formation                                          1\n",
              "member of                                                     36\n",
              "merged into                                                    3\n",
              "named after                                                   14\n",
              "opposite of                                                    2\n",
              "owned by                                                       2\n",
              "part of                                                      121\n",
              "partially coincident with                                      4\n",
              "permanent duplicated item                                      2\n",
              "replaced by                                                  462\n",
              "replaces                                                     414\n",
              "said to be the same as                                         8\n",
              "separated from                                                15\n",
              "shares border with                                          1395\n",
              "significant event                                              6\n",
              "subclass of                                                    6\n",
              "territory claimed by                                          18\n",
              "territory overlaps                                             4\n",
              "time period                                                    8\n",
              "topic's main category                                          2\n",
              "twinned administrative body                                    2\n",
              "Name: r, dtype: int64"
            ]
          },
          "metadata": {},
          "execution_count": 26
        }
      ]
    },
    {
      "cell_type": "markdown",
      "metadata": {
        "id": "IKhTANyfK60Z"
      },
      "source": [
        "Convert our dataset into a TorchKGE knowledge graph"
      ]
    },
    {
      "cell_type": "code",
      "metadata": {
        "id": "qu8XEw4PK60Z"
      },
      "source": [
        "kg = KnowledgeGraph(\n",
        "    pd.DataFrame(edges_labeled, columns=['from', 'to', 'rel']))"
      ],
      "execution_count": 27,
      "outputs": []
    },
    {
      "cell_type": "markdown",
      "metadata": {
        "id": "j3ewE6cgK60Z"
      },
      "source": [
        "Split the dataset into train and test set. What differs from the standard method of randomly sampling N points to make up our test set, is that our data points are two entities linked by some relationship, and we need to take care to ensure that all entities are represented in train and test sets by at least one triple.\n",
        "\n"
      ]
    },
    {
      "cell_type": "code",
      "metadata": {
        "id": "cd1yZo0JK60a"
      },
      "source": [
        "kg_train, kg_test = kg.split_kg()"
      ],
      "execution_count": 28,
      "outputs": []
    },
    {
      "cell_type": "markdown",
      "metadata": {
        "id": "zkJq6yAmK60a"
      },
      "source": [
        "Create required objects: model, loss, optimizer and trainer."
      ]
    },
    {
      "cell_type": "code",
      "metadata": {
        "id": "GG0MfNkmK60a"
      },
      "source": [
        "model = TransE(kg_train.n_ent, kg_train.n_rel, dim=64)\n",
        "criterion = MarginLoss(margin=0.5)\n",
        "optimizer = torch.optim.Adam(model.parameters(), lr=0.001)\n",
        "\n",
        "trainer = Trainer(\n",
        "    model, criterion, kg_train, n_epochs=200, \n",
        "    batch_size=2048, optimizer=optimizer)"
      ],
      "execution_count": 29,
      "outputs": []
    },
    {
      "cell_type": "markdown",
      "metadata": {
        "id": "EuY4Ek4mK60a"
      },
      "source": [
        "During training, positive triplets are selected, negative triplets are generated, margin loss is calculated and then the gradient step is performed."
      ]
    },
    {
      "cell_type": "code",
      "metadata": {
        "id": "KH4OyKKVK60a",
        "colab": {
          "base_uri": "https://localhost:8080/",
          "height": 49,
          "referenced_widgets": [
            "e7f0744f1dba4187ac2d73b9ba08cfd0",
            "1cab15fa4f064be38f40e0526cb141d9",
            "684d6c98c43144c3a2111ab8dd1b42ec",
            "31094efd49b94e048bf070a48a1c64a7",
            "3440c3207171452184703bc849c01fc9",
            "6f388a82fb974bb285c204e17b7b4f73",
            "8b8460b01fbb4e21af77ed0608e5b83a",
            "e325327f32174cd480279b3690a978d1",
            "aa3d636ef99b44279acac74f6bf6679a",
            "b7114ce0bba24f20a6627d2efeef26ea",
            "5354dc4d31ec4d13b16c96ca65ee6f27"
          ]
        },
        "outputId": "be3b2639-e68b-4c64-fd87-e10b3db80102"
      },
      "source": [
        "trainer.run()"
      ],
      "execution_count": 30,
      "outputs": [
        {
          "output_type": "display_data",
          "data": {
            "application/vnd.jupyter.widget-view+json": {
              "model_id": "e7f0744f1dba4187ac2d73b9ba08cfd0",
              "version_minor": 0,
              "version_major": 2
            },
            "text/plain": [
              "  0%|          | 0/200 [00:00<?, ?epoch/s]"
            ]
          },
          "metadata": {}
        }
      ]
    },
    {
      "cell_type": "markdown",
      "metadata": {
        "id": "DJkPj2puK60a"
      },
      "source": [
        "Let us evaluate our model on the link prediction task"
      ]
    },
    {
      "cell_type": "code",
      "metadata": {
        "deletable": false,
        "editable": false,
        "nbgrader": {
          "cell_type": "code",
          "checksum": "3fdf16e46207c504dfec19a2800cd8b7",
          "grade": true,
          "grade_id": "cell-e6b0a4e916e8c503",
          "locked": true,
          "points": 2,
          "schema_version": 3,
          "solution": false,
          "task": false
        },
        "id": "EbckO-yGK60a",
        "colab": {
          "base_uri": "https://localhost:8080/",
          "height": 49,
          "referenced_widgets": [
            "93722d3c14424fb5ad1eb52c779d3e69",
            "2119e8d2f2dd4c8ba24230a599e0a096",
            "6ebbd66b8868443084f990d4c326e136",
            "63a977266c00491fa20c9b09b6f95024",
            "2dcd257d87b74d73ad0915e876530758",
            "b2741fe40a584a319655431f42b765af",
            "1b3d50d7ddaf4c1a9c3313bfad7a42d2",
            "ac12a013c4da453d85b869f595573b0f",
            "44b3cf860f4c4ef293befb74b4c00657",
            "48f6a9bbd8e5467993bab7c8d5e40def",
            "5c2636f4d4964a6d90a921fbd7d96af6"
          ]
        },
        "outputId": "c729914e-ee8a-4116-e9a8-bdefe0ae034d"
      },
      "source": [
        "evaluator = LinkPredictionEvaluator(model, kg_test)\n",
        "evaluator.evaluate(b_size=128)\n",
        "\n",
        "assert evaluator.hit_at_k(k=10)[0] > 0.3\n",
        "assert evaluator.mean_rank()[0] < 70\n",
        "assert evaluator.mrr()[0] > 0.1"
      ],
      "execution_count": 31,
      "outputs": [
        {
          "output_type": "display_data",
          "data": {
            "application/vnd.jupyter.widget-view+json": {
              "model_id": "93722d3c14424fb5ad1eb52c779d3e69",
              "version_minor": 0,
              "version_major": 2
            },
            "text/plain": [
              "Link prediction evaluation:   0%|          | 0/17 [00:00<?, ?batch/s]"
            ]
          },
          "metadata": {}
        }
      ]
    },
    {
      "cell_type": "code",
      "metadata": {
        "id": "ysA-PmzyK60a",
        "colab": {
          "base_uri": "https://localhost:8080/"
        },
        "outputId": "116f7809-b591-4ae5-8418-8fdce398ee06"
      },
      "source": [
        "print('Hit@10: {:.4f}'.format(evaluator.hit_at_k(k=10)[0]))\n",
        "print('Mean Rank: {:.4f}'.format(evaluator.mean_rank()[0]))\n",
        "print('MRR: {:.4f}'.format(evaluator.mrr()[0]))"
      ],
      "execution_count": 32,
      "outputs": [
        {
          "output_type": "stream",
          "name": "stdout",
          "text": [
            "Hit@10: 0.3729\n",
            "Mean Rank: 65.1693\n",
            "MRR: 0.1476\n"
          ]
        }
      ]
    },
    {
      "cell_type": "markdown",
      "metadata": {
        "id": "OBt3aw85K60a"
      },
      "source": [
        "`Hit@k` indicates how many times in average a true triple was ranked in the top-k.\n",
        "\n",
        "`Mean Rank` is a mean rank of the true entity when replacing alternatively head and tail in any fact of the dataset.\n",
        "\n",
        "`MRR` is an average of mean recovery rank for head and tail replacement."
      ]
    },
    {
      "cell_type": "markdown",
      "metadata": {
        "id": "U2maDFMeK60b"
      },
      "source": [
        "### Task 3. 2D entity embedding (2 points)"
      ]
    },
    {
      "cell_type": "code",
      "metadata": {
        "id": "1SoLthERK60b"
      },
      "source": [
        "from sklearn.decomposition import TruncatedSVD\n",
        "from sklearn.cluster import k_means\n",
        "import matplotlib.pyplot as plt"
      ],
      "execution_count": 33,
      "outputs": []
    },
    {
      "cell_type": "markdown",
      "metadata": {
        "id": "KoFngWwIK60b"
      },
      "source": [
        "Similarly to node embedding visualization, we can plot 2D embeddings of entities of knowledge graph.\n",
        "\n",
        "Write a function `ent_embeddgins` that takes the model, transforms entity embeddings into 2-dimenstional space via SVD, then finds 2 clusters via k-means and finally returns a tuple: np.array with embeddings and 0/1 labels of clusters."
      ]
    },
    {
      "cell_type": "code",
      "metadata": {
        "deletable": false,
        "nbgrader": {
          "cell_type": "code",
          "checksum": "17f1706f3d95cf3e2c3d9107ca211a69",
          "grade": false,
          "grade_id": "cell-c79123779965d790",
          "locked": false,
          "schema_version": 3,
          "solution": true,
          "task": false
        },
        "id": "6E2HjahoK60b"
      },
      "source": [
        "def ent_embeddgins(model):\n",
        "    svd = TruncatedSVD(n_components=2)\n",
        "    X = svd.fit_transform(model.ent_embeddings.weight.data.numpy())\n",
        "    kmeans = k_means(X, n_clusters=2)\n",
        "\n",
        "    return X, kmeans[1]"
      ],
      "execution_count": 38,
      "outputs": []
    },
    {
      "cell_type": "code",
      "metadata": {
        "deletable": false,
        "editable": false,
        "nbgrader": {
          "cell_type": "code",
          "checksum": "635ba30fc4cecbebaba94724a89d4827",
          "grade": true,
          "grade_id": "cell-c4d5a66741d71c62",
          "locked": true,
          "points": 2,
          "schema_version": 3,
          "solution": false,
          "task": false
        },
        "id": "MFAZvIXZK60b"
      },
      "source": [
        "ent_emb, labels = ent_embeddgins(model)\n",
        "assert ent_emb.shape == (1810, 2)\n",
        "assert labels.shape == (1810,)\n",
        "n_label1 = (labels == 1).sum()\n",
        "n_label0 = (labels == 0).sum()\n",
        "assert 0.14 < min(n_label1, n_label0) / max(n_label1, n_label0) < 0.16"
      ],
      "execution_count": 39,
      "outputs": []
    },
    {
      "cell_type": "code",
      "metadata": {
        "id": "QjZuTZn1K60b",
        "colab": {
          "base_uri": "https://localhost:8080/",
          "height": 336
        },
        "outputId": "88633660-074b-49c0-abd4-c5f271079b7a"
      },
      "source": [
        "plt.figure(figsize=(8, 5))\n",
        "colors = np.array(plt.cm.tab10.colors)\n",
        "plt.scatter(ent_emb[:, 0], ent_emb[:, 1], s=10, c=colors[labels])\n",
        "plt.title('Entity embeddings')\n",
        "plt.show()"
      ],
      "execution_count": 40,
      "outputs": [
        {
          "output_type": "display_data",
          "data": {
            "image/png": "[encoded data removed]",
            "text/plain": [
              "<Figure size 576x360 with 1 Axes>"
            ]
          },
          "metadata": {
            "needs_background": "light"
          }
        }
      ]
    },
    {
      "cell_type": "markdown",
      "metadata": {
        "id": "t0Fde2WwK60b"
      },
      "source": [
        "Let us look at some randomly chosen entities from each cluster. Here we use `kg.ent2ix` dictionary to get labels of entities."
      ]
    },
    {
      "cell_type": "code",
      "metadata": {
        "id": "Fo4bBHuDK60b",
        "colab": {
          "base_uri": "https://localhost:8080/"
        },
        "outputId": "5eea273a-69ad-4881-9934-f9ef2ef6a7ed"
      },
      "source": [
        "ent_labels = np.array(list(kg.ent2ix.keys()))\n",
        "print('First cluster: ', ', '.join(\n",
        "    np.random.permutation(ent_labels[labels == 0])[:10]))\n",
        "print()\n",
        "print('Second cluster: ', ', '.join(\n",
        "    np.random.permutation(ent_labels[labels == 1])[:10]))"
      ],
      "execution_count": 41,
      "outputs": [
        {
          "output_type": "stream",
          "name": "stdout",
          "text": [
            "First cluster:  Czechoslovakia, Bulgaria, German Empire, Andorra, Niger, Indonesia, Chad, Uruguay, Armenia, Mozambique\n",
            "\n",
            "Second cluster:  Kerala, State of Somaliland, company rule in India, Taifa of Albarracín, Cossack Hetmanate, Kerajaan Banten Pasisir, Duchy of Siewierz, Madhya Pradesh, Kingdom of Persia, Tournaisis\n"
          ]
        }
      ]
    },
    {
      "cell_type": "markdown",
      "metadata": {
        "id": "3n7Q0720K60c"
      },
      "source": [
        "### Task 4. Nearest neighbors of an entity (2 points)"
      ]
    },
    {
      "cell_type": "code",
      "metadata": {
        "id": "uX4R3sPMK60c"
      },
      "source": [
        "from sklearn.neighbors import NearestNeighbors"
      ],
      "execution_count": 42,
      "outputs": []
    },
    {
      "cell_type": "markdown",
      "metadata": {
        "id": "kFZiMsY2K60c"
      },
      "source": [
        "Let us find a nearest neighbors of Belgium using embedding space.\n",
        "\n",
        "Write a function `similar_countries` that takes a name of country, graph and model and returns a list with names of nearest countries. Use `model.get_embeddings()`."
      ]
    },
    {
      "cell_type": "code",
      "metadata": {
        "deletable": false,
        "nbgrader": {
          "cell_type": "code",
          "checksum": "2914a4ae39cc291785e97e21b00d67ae",
          "grade": false,
          "grade_id": "cell-fe878bfa8dc0c817",
          "locked": false,
          "schema_version": 3,
          "solution": true,
          "task": false
        },
        "id": "ibc9iNM8K60c"
      },
      "source": [
        "def similar_countries(name, kg, model):\n",
        "    embeddings = model.get_embeddings()[0].detach().numpy()\n",
        "    return [{value: key for key, value in kg.ent2ix.items()}[ind] \n",
        "            for ind in NearestNeighbors().fit(embeddings).kneighbors([embeddings[kg.ent2ix[name]]])[1][0]]\n",
        "    "
      ],
      "execution_count": 85,
      "outputs": []
    },
    {
      "cell_type": "code",
      "metadata": {
        "deletable": false,
        "editable": false,
        "nbgrader": {
          "cell_type": "code",
          "checksum": "4e88d5279728e100642339d7f1e4136e",
          "grade": true,
          "grade_id": "cell-0b8b02590a965cc3",
          "locked": true,
          "points": 2,
          "schema_version": 3,
          "solution": false,
          "task": false
        },
        "id": "F8ongv9QK60c",
        "colab": {
          "base_uri": "https://localhost:8080/"
        },
        "outputId": "fd0b4183-e111-4b31-f8db-0d67ef6f22e5"
      },
      "source": [
        "similar = similar_countries('Belgium', kg, model)\n",
        "assert 'Netherlands' in similar\n",
        "similar"
      ],
      "execution_count": 86,
      "outputs": [
        {
          "output_type": "execute_result",
          "data": {
            "text/plain": [
              "['Belgium', 'Luxembourg', 'Netherlands', 'France', 'Hungary']"
            ]
          },
          "metadata": {},
          "execution_count": 86
        }
      ]
    },
    {
      "cell_type": "markdown",
      "metadata": {
        "id": "pKBApi7rK60c"
      },
      "source": [
        "### Task 5. Relation prediction  (2 points)"
      ]
    },
    {
      "cell_type": "markdown",
      "metadata": {
        "id": "j5pORtBkK60c"
      },
      "source": [
        "Let us consider these facts:\n",
        "1. Belgium shares border with France\n",
        "2. Belgium shares border with Switzerland\n",
        "3. Belgium shares border with Nigeria\n",
        "\n",
        "Only the fact 1 is truth, but it seems that the fact 2 is more likely than 3."
      ]
    },
    {
      "cell_type": "code",
      "metadata": {
        "id": "rqEGFozzK60c",
        "colab": {
          "base_uri": "https://localhost:8080/",
          "height": 111
        },
        "outputId": "ee4c06a9-fd73-4c9d-a829-f9dff37981de"
      },
      "source": [
        "df[(df.h == 'Belgium') & (df.t == 'France')]"
      ],
      "execution_count": 54,
      "outputs": [
        {
          "output_type": "execute_result",
          "data": {
            "text/html": [
              "<div>\n",
              "<style scoped>\n",
              "    .dataframe tbody tr th:only-of-type {\n",
              "        vertical-align: middle;\n",
              "    }\n",
              "\n",
              "    .dataframe tbody tr th {\n",
              "        vertical-align: top;\n",
              "    }\n",
              "\n",
              "    .dataframe thead th {\n",
              "        text-align: right;\n",
              "    }\n",
              "</style>\n",
              "<table border=\"1\" class=\"dataframe\">\n",
              "  <thead>\n",
              "    <tr style=\"text-align: right;\">\n",
              "      <th></th>\n",
              "      <th>h</th>\n",
              "      <th>r</th>\n",
              "      <th>t</th>\n",
              "    </tr>\n",
              "  </thead>\n",
              "  <tbody>\n",
              "    <tr>\n",
              "      <th>8</th>\n",
              "      <td>Belgium</td>\n",
              "      <td>diplomatic relation</td>\n",
              "      <td>France</td>\n",
              "    </tr>\n",
              "    <tr>\n",
              "      <th>32</th>\n",
              "      <td>Belgium</td>\n",
              "      <td>shares border with</td>\n",
              "      <td>France</td>\n",
              "    </tr>\n",
              "  </tbody>\n",
              "</table>\n",
              "</div>"
            ],
            "text/plain": [
              "          h                    r       t\n",
              "8   Belgium  diplomatic relation  France\n",
              "32  Belgium   shares border with  France"
            ]
          },
          "metadata": {},
          "execution_count": 54
        }
      ]
    },
    {
      "cell_type": "code",
      "metadata": {
        "id": "XzrfSohvK60c",
        "colab": {
          "base_uri": "https://localhost:8080/",
          "height": 49
        },
        "outputId": "445a8297-8c54-452a-e1e3-96551013d2bb"
      },
      "source": [
        "df[(df.h == 'Belgium') & (df.t == 'Switzerland')]"
      ],
      "execution_count": 55,
      "outputs": [
        {
          "output_type": "execute_result",
          "data": {
            "text/html": [
              "<div>\n",
              "<style scoped>\n",
              "    .dataframe tbody tr th:only-of-type {\n",
              "        vertical-align: middle;\n",
              "    }\n",
              "\n",
              "    .dataframe tbody tr th {\n",
              "        vertical-align: top;\n",
              "    }\n",
              "\n",
              "    .dataframe thead th {\n",
              "        text-align: right;\n",
              "    }\n",
              "</style>\n",
              "<table border=\"1\" class=\"dataframe\">\n",
              "  <thead>\n",
              "    <tr style=\"text-align: right;\">\n",
              "      <th></th>\n",
              "      <th>h</th>\n",
              "      <th>r</th>\n",
              "      <th>t</th>\n",
              "    </tr>\n",
              "  </thead>\n",
              "  <tbody>\n",
              "  </tbody>\n",
              "</table>\n",
              "</div>"
            ],
            "text/plain": [
              "Empty DataFrame\n",
              "Columns: [h, r, t]\n",
              "Index: []"
            ]
          },
          "metadata": {},
          "execution_count": 55
        }
      ]
    },
    {
      "cell_type": "code",
      "metadata": {
        "id": "VPta_kG7K60c",
        "colab": {
          "base_uri": "https://localhost:8080/",
          "height": 49
        },
        "outputId": "bb313d58-1208-4317-dd81-83e24dd3471d"
      },
      "source": [
        "df[(df.h == 'Belgium') & (df.t == 'Nigeria')]"
      ],
      "execution_count": 56,
      "outputs": [
        {
          "output_type": "execute_result",
          "data": {
            "text/html": [
              "<div>\n",
              "<style scoped>\n",
              "    .dataframe tbody tr th:only-of-type {\n",
              "        vertical-align: middle;\n",
              "    }\n",
              "\n",
              "    .dataframe tbody tr th {\n",
              "        vertical-align: top;\n",
              "    }\n",
              "\n",
              "    .dataframe thead th {\n",
              "        text-align: right;\n",
              "    }\n",
              "</style>\n",
              "<table border=\"1\" class=\"dataframe\">\n",
              "  <thead>\n",
              "    <tr style=\"text-align: right;\">\n",
              "      <th></th>\n",
              "      <th>h</th>\n",
              "      <th>r</th>\n",
              "      <th>t</th>\n",
              "    </tr>\n",
              "  </thead>\n",
              "  <tbody>\n",
              "  </tbody>\n",
              "</table>\n",
              "</div>"
            ],
            "text/plain": [
              "Empty DataFrame\n",
              "Columns: [h, r, t]\n",
              "Index: []"
            ]
          },
          "metadata": {},
          "execution_count": 56
        }
      ]
    },
    {
      "cell_type": "markdown",
      "metadata": {
        "id": "4vnvSP1tK60c"
      },
      "source": [
        "Now we can compare these facts using scoring function of TransE model to check our prior knowledge.\n",
        "\n",
        "Write a function `belgium_facts` that takes a model, a graph and returns 3 values of scoring function for each fact. Use `model.scoring_function` with `torch.no_grad()`."
      ]
    },
    {
      "cell_type": "code",
      "metadata": {
        "deletable": false,
        "nbgrader": {
          "cell_type": "code",
          "checksum": "d6b24f412af3938aadfd82f350222dcb",
          "grade": false,
          "grade_id": "cell-5feee5e866b961d0",
          "locked": false,
          "schema_version": 3,
          "solution": true,
          "task": false
        },
        "id": "Pbg3rDtLK60d"
      },
      "source": [
        "def belgium_facts(model, kg):\n",
        "    \n",
        "    return model.scoring_function(torch.tensor([kg.ent2ix['Belgium'], kg.ent2ix['Belgium'], kg.ent2ix['Belgium']]), \n",
        "                                  torch.tensor([kg.ent2ix['France'], kg.ent2ix['Switzerland'], kg.ent2ix['Nigeria']]),\n",
        "                                  torch.tensor([kg.rel2ix['shares border with'], kg.rel2ix['shares border with'], kg.rel2ix['shares border with']])\n",
        "                                  )"
      ],
      "execution_count": 59,
      "outputs": []
    },
    {
      "cell_type": "code",
      "metadata": {
        "deletable": false,
        "editable": false,
        "nbgrader": {
          "cell_type": "code",
          "checksum": "98d6fe874d2842dbac1afec5c7219b09",
          "grade": true,
          "grade_id": "cell-a6b6e4e88ba6569f",
          "locked": true,
          "points": 2,
          "schema_version": 3,
          "solution": false,
          "task": false
        },
        "id": "hkS3LvloK60d",
        "colab": {
          "base_uri": "https://localhost:8080/"
        },
        "outputId": "af5ecfc1-7557-4dfe-9ade-22176683af6a"
      },
      "source": [
        "scores = belgium_facts(model, kg)\n",
        "assert scores[0] > scores[1] > scores[2]\n",
        "scores"
      ],
      "execution_count": 60,
      "outputs": [
        {
          "output_type": "execute_result",
          "data": {
            "text/plain": [
              "tensor([-0.5973, -0.6990, -0.9943], grad_fn=<NegBackward0>)"
            ]
          },
          "metadata": {},
          "execution_count": 60
        }
      ]
    },
    {
      "cell_type": "markdown",
      "metadata": {
        "id": "3sKdS5iIK60d"
      },
      "source": [
        "### Task 6. Tail prediction (2 points)"
      ]
    },
    {
      "cell_type": "code",
      "metadata": {
        "id": "7u5D7vxIK60d"
      },
      "source": [
        "from sklearn.neighbors import NearestNeighbors"
      ],
      "execution_count": 61,
      "outputs": []
    },
    {
      "cell_type": "markdown",
      "metadata": {
        "id": "dojJmrn_K60d"
      },
      "source": [
        "Recall that the main idea of TransE is to learn $h + r \\approx t$, so let us find the closest tails for the head + relation pair.\n",
        "\n",
        "Write a function `soviet_tail` that takes a model, graph and finds 5 nearest neighbors for the pair $h$ is \"Soviet Union\" and $r$ is \"founded by\"."
      ]
    },
    {
      "cell_type": "code",
      "metadata": {
        "deletable": false,
        "nbgrader": {
          "cell_type": "code",
          "checksum": "803dd88ce8a03a13810ab252b70a682e",
          "grade": false,
          "grade_id": "cell-dbc103d80a938c68",
          "locked": false,
          "schema_version": 3,
          "solution": true,
          "task": false
        },
        "id": "WNVWxQVjK60d"
      },
      "source": [
        "def soviet_tail(model, kg):\n",
        "    ent_emb, rel_emb = map(lambda x: x.detach().numpy(), model.get_embeddings())\n",
        "\n",
        "    return [{value: key for key, value in kg.ent2ix.items()}[ind] \n",
        "            for ind in NearestNeighbors().fit(ent_emb).kneighbors(\n",
        "                [ent_emb[kg.ent2ix['Soviet Union']] + rel_emb[kg.rel2ix['founded by']]])[1][0]]"
      ],
      "execution_count": 80,
      "outputs": []
    },
    {
      "cell_type": "code",
      "metadata": {
        "deletable": false,
        "editable": false,
        "nbgrader": {
          "cell_type": "code",
          "checksum": "33531b4432249879e8a7b4342f576f69",
          "grade": true,
          "grade_id": "cell-ba34f9e5a695e8ca",
          "locked": true,
          "points": 2,
          "schema_version": 3,
          "solution": false,
          "task": false
        },
        "id": "fT0ew7M7K60d",
        "colab": {
          "base_uri": "https://localhost:8080/"
        },
        "outputId": "2ab8bbd4-2ab7-4beb-cec1-8f702a830346"
      },
      "source": [
        "tails = soviet_tail(model, kg)\n",
        "assert 'Russian Soviet Federative Socialist Republic' in tails\n",
        "tails"
      ],
      "execution_count": 81,
      "outputs": [
        {
          "output_type": "execute_result",
          "data": {
            "text/plain": [
              "['Russian Empire',\n",
              " 'Soviet Union',\n",
              " 'Russian Soviet Federative Socialist Republic',\n",
              " 'Empire of Japan',\n",
              " 'Second Polish Republic']"
            ]
          },
          "metadata": {},
          "execution_count": 81
        }
      ]
    },
    {
      "cell_type": "code",
      "source": [
        ""
      ],
      "metadata": {
        "id": "apkyicrJvIel"
      },
      "execution_count": null,
      "outputs": []
    }
  ]
}